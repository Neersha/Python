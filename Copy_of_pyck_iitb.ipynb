{
  "nbformat": 4,
  "nbformat_minor": 0,
  "metadata": {
    "colab": {
      "provenance": [],
      "authorship_tag": "ABX9TyNjJJwC37nOpZEynafTPWSV",
      "include_colab_link": true
    },
    "kernelspec": {
      "name": "python3",
      "display_name": "Python 3"
    },
    "language_info": {
      "name": "python"
    }
  },
  "cells": [
    {
      "cell_type": "markdown",
      "metadata": {
        "id": "view-in-github",
        "colab_type": "text"
      },
      "source": [
        "<a href=\"https://colab.research.google.com/github/Neersha/Python/blob/main/Copy_of_pyck_iitb.ipynb\" target=\"_parent\"><img src=\"https://colab.research.google.com/assets/colab-badge.svg\" alt=\"Open In Colab\"/></a>"
      ]
    },
    {
      "cell_type": "code",
      "metadata": {
        "colab": {
          "base_uri": "https://localhost:8080/"
        },
        "id": "4SGm6ALscMNB",
        "outputId": "c28651e9-4144-4b38-9b5c-7f48671ee734"
      },
      "source": [
        "first_name = \"scarlett\"\n",
        "last_name = \"johansson\"\n",
        "full_name = f\"{first_name} {last_name}\"#\n",
        "print(full_name)\n"
      ],
      "execution_count": null,
      "outputs": [
        {
          "output_type": "stream",
          "text": [
            "scarlett johansson\n"
          ],
          "name": "stdout"
        }
      ]
    },
    {
      "cell_type": "code",
      "metadata": {
        "id": "8nDgc3TKcrGv"
      },
      "source": [],
      "execution_count": null,
      "outputs": []
    },
    {
      "cell_type": "code",
      "metadata": {
        "colab": {
          "base_uri": "https://localhost:8080/"
        },
        "id": "1qX4Fihccv2s",
        "outputId": "dc15347a-6728-412e-f5cf-69756265ebde"
      },
      "source": [
        "first_name = \"scarlett\"\n",
        "last_name = \"johansson\"\n",
        "print(first_name, last_name)# enter B for new cell\n"
      ],
      "execution_count": null,
      "outputs": [
        {
          "output_type": "stream",
          "text": [
            "scarlett johansson\n"
          ],
          "name": "stdout"
        }
      ]
    },
    {
      "cell_type": "code",
      "metadata": {
        "colab": {
          "base_uri": "https://localhost:8080/"
        },
        "id": "IWEjVFeldpbh",
        "outputId": "0f2eb8ab-45c2-49f9-ee2f-25165a90fa97"
      },
      "source": [
        "x, y, z = 1, 2, 3\n",
        "print(x,y,z, sep= \"_\")"
      ],
      "execution_count": null,
      "outputs": [
        {
          "output_type": "stream",
          "text": [
            "1_2_3\n"
          ],
          "name": "stdout"
        }
      ]
    },
    {
      "cell_type": "code",
      "metadata": {
        "colab": {
          "base_uri": "https://localhost:8080/"
        },
        "id": "TJPM6wvleL2B",
        "outputId": "ba5e14fb-f9d2-4d51-863f-bcdb97043549"
      },
      "source": [
        "x, y, z = 1, 2, 3\n",
        "print(x,y,z, sep= None)"
      ],
      "execution_count": null,
      "outputs": [
        {
          "output_type": "stream",
          "text": [
            "1 2 3\n"
          ],
          "name": "stdout"
        }
      ]
    },
    {
      "cell_type": "code",
      "metadata": {
        "colab": {
          "base_uri": "https://localhost:8080/"
        },
        "id": "Ua1-DztXeJTR",
        "outputId": "c1fa5dba-3416-450a-cb79-2f0ce432b802"
      },
      "source": [
        "b = 1981\n",
        "print(\"James\", \"joined in\", b)\n"
      ],
      "execution_count": null,
      "outputs": [
        {
          "output_type": "stream",
          "text": [
            "James joined in 1981\n"
          ],
          "name": "stdout"
        }
      ]
    },
    {
      "cell_type": "code",
      "metadata": {
        "colab": {
          "base_uri": "https://localhost:8080/"
        },
        "id": "fl-8xvSuenoQ",
        "outputId": "092917cd-7493-47e0-fbaf-e70ed9813b16"
      },
      "source": [
        "b = 1981\n",
        "print(\"James\", \"joined in\", \"b\")\n"
      ],
      "execution_count": null,
      "outputs": [
        {
          "output_type": "stream",
          "text": [
            "James joined in b\n"
          ],
          "name": "stdout"
        }
      ]
    },
    {
      "cell_type": "code",
      "metadata": {
        "colab": {
          "base_uri": "https://localhost:8080/"
        },
        "id": "vaRX_GuUgoLd",
        "outputId": "59c0ff70-5593-4f75-89ca-d097d9a53347"
      },
      "source": [
        "print('I told my friend, \"Python is my favorite language!\"')#allows you to use quotes and apostrophes within your strings"
      ],
      "execution_count": null,
      "outputs": [
        {
          "output_type": "stream",
          "text": [
            "I told my friend, \"Python is my favorite language!\"\n"
          ],
          "name": "stdout"
        }
      ]
    },
    {
      "cell_type": "code",
      "metadata": {
        "colab": {
          "base_uri": "https://localhost:8080/"
        },
        "id": "1_MkXAkkiv63",
        "outputId": "1670d9bf-2e09-4581-9335-8fa1e9cc716c"
      },
      "source": [
        "a, b = \"World\", \"Morning\"\n",
        "print(\"Hello\", a, \"Good\", b)"
      ],
      "execution_count": null,
      "outputs": [
        {
          "output_type": "stream",
          "text": [
            "Hello World Good Morning\n"
          ],
          "name": "stdout"
        }
      ]
    },
    {
      "cell_type": "code",
      "metadata": {
        "colab": {
          "base_uri": "https://localhost:8080/"
        },
        "id": "cMU2rhURjCIe",
        "outputId": "291537a1-cfa7-4acd-b7e0-b1bf07685e03"
      },
      "source": [
        "print(f\"Hello {a} Good {b}\")"
      ],
      "execution_count": null,
      "outputs": [
        {
          "output_type": "stream",
          "text": [
            "Hello World Good Morning\n"
          ],
          "name": "stdout"
        }
      ]
    },
    {
      "cell_type": "code",
      "metadata": {
        "colab": {
          "base_uri": "https://localhost:8080/"
        },
        "id": "NGyMsKgkjNi2",
        "outputId": "a5b65afb-6767-430f-e4a7-71fdc68f763f"
      },
      "source": [
        "x = 5\n",
        "print(f\"The cube of {x} is {x**3}\") #These strings are called f-strings. The f is for format, because Python formats the string by replacing the name of any variable or expression in braces with its value"
      ],
      "execution_count": null,
      "outputs": [
        {
          "output_type": "stream",
          "text": [
            "The cube of 5 is 125\n"
          ],
          "name": "stdout"
        }
      ]
    },
    {
      "cell_type": "code",
      "metadata": {
        "colab": {
          "base_uri": "https://localhost:8080/"
        },
        "id": "iDtn6dtwmclQ",
        "outputId": "cdf1662a-8d54-4e99-9e68-c23c6ac1da98"
      },
      "source": [
        "print(f\"Hello, {full_name.title()}!\")#capitalize each word in .title()"
      ],
      "execution_count": null,
      "outputs": [
        {
          "output_type": "stream",
          "text": [
            "Hello, Scarlett Johansson!\n"
          ],
          "name": "stdout"
        }
      ]
    },
    {
      "cell_type": "code",
      "metadata": {
        "colab": {
          "base_uri": "https://localhost:8080/"
        },
        "id": "bYEtdQx4mf-n",
        "outputId": "71424541-1186-46a7-8c93-2da82a52989d"
      },
      "source": [
        "print(f\"Hello, {full_name.upper()}!\")"
      ],
      "execution_count": null,
      "outputs": [
        {
          "output_type": "stream",
          "text": [
            "Hello, SCARLETT JOHANSSON!\n"
          ],
          "name": "stdout"
        }
      ]
    },
    {
      "cell_type": "code",
      "metadata": {
        "colab": {
          "base_uri": "https://localhost:8080/"
        },
        "id": "wA5rw77Mmu4v",
        "outputId": "95219f80-fe5b-4cd7-e3b5-8f127d123dd7"
      },
      "source": [
        "print(f\"These are curly braces {{}}\")"
      ],
      "execution_count": null,
      "outputs": [
        {
          "output_type": "stream",
          "text": [
            "These are curly braces {}\n"
          ],
          "name": "stdout"
        }
      ]
    },
    {
      "cell_type": "code",
      "metadata": {
        "colab": {
          "base_uri": "https://localhost:8080/"
        },
        "id": "HKYpdoPCm-bf",
        "outputId": "94008c34-7161-4a75-bf8c-109e1aa402e4"
      },
      "source": [
        "first_name = \"scarlett\"\n",
        "last_name = \"johansson\"\n",
        "full_name = \"{} {}\".format(first_name, last_name)\n",
        "print(full_name)"
      ],
      "execution_count": null,
      "outputs": [
        {
          "output_type": "stream",
          "text": [
            "scarlett johansson\n"
          ],
          "name": "stdout"
        }
      ]
    },
    {
      "cell_type": "code",
      "metadata": {
        "colab": {
          "base_uri": "https://localhost:8080/",
          "height": 35
        },
        "id": "YsqrAC73naBl",
        "outputId": "37b3f1e9-4308-4fee-ea20-918b43a2cc8a"
      },
      "source": [
        "\"\\'\""
      ],
      "execution_count": null,
      "outputs": [
        {
          "output_type": "execute_result",
          "data": {
            "application/vnd.google.colaboratory.intrinsic+json": {
              "type": "string"
            },
            "text/plain": [
              "\"'\""
            ]
          },
          "metadata": {
            "tags": []
          },
          "execution_count": 33
        }
      ]
    },
    {
      "cell_type": "code",
      "metadata": {
        "colab": {
          "base_uri": "https://localhost:8080/"
        },
        "id": "nTfcjuKyn0Uo",
        "outputId": "4db3cca9-f6b0-489c-b322-2a08573d0fff"
      },
      "source": [
        "print(\"Hello from \\tPyCK Team!\")  #\\t tab space\n",
        "print(r\"Hello from \\tPyCK Team!\")  #"
      ],
      "execution_count": null,
      "outputs": [
        {
          "output_type": "stream",
          "text": [
            "Hello from \tPyCK Team!\n",
            "Hello from \\tPyCK Team!\n"
          ],
          "name": "stdout"
        }
      ]
    },
    {
      "cell_type": "code",
      "metadata": {
        "id": "hkOTT7L4pM5x"
      },
      "source": [
        "universe_age = 14000000000"
      ],
      "execution_count": null,
      "outputs": []
    },
    {
      "cell_type": "code",
      "metadata": {
        "id": "Gy4WNVZipoHj",
        "outputId": "2bdc5830-3bf5-49f7-f049-51fc296ccc50",
        "colab": {
          "base_uri": "https://localhost:8080/"
        }
      },
      "source": [
        "print(universe_age)"
      ],
      "execution_count": null,
      "outputs": [
        {
          "output_type": "stream",
          "text": [
            "14000000000\n"
          ],
          "name": "stdout"
        }
      ]
    },
    {
      "cell_type": "code",
      "metadata": {
        "id": "OCzBrT1gpySS",
        "outputId": "6e608032-0ec9-462f-98f8-a2712e5fd93b",
        "colab": {
          "base_uri": "https://localhost:8080/"
        }
      },
      "source": [
        "list"
      ],
      "execution_count": null,
      "outputs": [
        {
          "output_type": "execute_result",
          "data": {
            "text/plain": [
              "list"
            ]
          },
          "metadata": {
            "tags": []
          },
          "execution_count": 40
        }
      ]
    },
    {
      "cell_type": "code",
      "metadata": {
        "id": "JTwFIJbtqQxj",
        "outputId": "283273ca-ecdc-4281-91f1-83aca0645949",
        "colab": {
          "base_uri": "https://localhost:8080/"
        }
      },
      "source": [
        "type_examples = [\"Hi\", 1, 4.2, False]#[] bracket, anything\n",
        "print(type_examples)"
      ],
      "execution_count": null,
      "outputs": [
        {
          "output_type": "stream",
          "text": [
            "['Hi', 1, 4.2, False]\n"
          ],
          "name": "stdout"
        }
      ]
    },
    {
      "cell_type": "code",
      "metadata": {
        "id": "hT7I-BbNquey",
        "outputId": "fd09ecd4-53d6-44d3-f0b6-00e66abb4219",
        "colab": {
          "base_uri": "https://localhost:8080/"
        }
      },
      "source": [
        "print(type_examples[0])\n"
      ],
      "execution_count": null,
      "outputs": [
        {
          "output_type": "stream",
          "text": [
            "Hi\n"
          ],
          "name": "stdout"
        }
      ]
    },
    {
      "cell_type": "code",
      "metadata": {
        "id": "29NARv9Iq84w",
        "outputId": "fcb851cc-5b99-4701-8d2e-b834e7a8a013",
        "colab": {
          "base_uri": "https://localhost:8080/"
        }
      },
      "source": [
        "print(f\"Another first examples is {type_examples[2]}\")"
      ],
      "execution_count": null,
      "outputs": [
        {
          "output_type": "stream",
          "text": [
            "Another first examples is 4.2\n"
          ],
          "name": "stdout"
        }
      ]
    },
    {
      "cell_type": "code",
      "metadata": {
        "id": "snYzd7sdrjZQ",
        "outputId": "279a6944-e28f-4cee-e10c-2c9e318f3ecb",
        "colab": {
          "base_uri": "https://localhost:8080/"
        }
      },
      "source": [
        "motorcycles = ['honda', 'yamaha', 'suzuki']\n",
        "motorcycles[0] = 'ducati'\n",
        "print(motorcycles)"
      ],
      "execution_count": null,
      "outputs": [
        {
          "output_type": "stream",
          "text": [
            "['ducati', 'yamaha', 'suzuki']\n"
          ],
          "name": "stdout"
        }
      ]
    },
    {
      "cell_type": "code",
      "metadata": {
        "id": "bQiiNumsrqYt",
        "outputId": "49ff2c2e-dd7b-44e7-b2b3-6f0fe37fc072",
        "colab": {
          "base_uri": "https://localhost:8080/"
        }
      },
      "source": [
        "motorcycles = ['honda', 'yamaha', 'suzuki']\n",
        "motorcycles.append('ducati')#always add in last\n",
        "print(motorcycles)"
      ],
      "execution_count": null,
      "outputs": [
        {
          "output_type": "stream",
          "text": [
            "['honda', 'yamaha', 'suzuki', 'ducati']\n"
          ],
          "name": "stdout"
        }
      ]
    },
    {
      "cell_type": "code",
      "metadata": {
        "id": "WInf8a5vruWW",
        "outputId": "e1e97f73-80da-45bc-a745-f3a48673b792",
        "colab": {
          "base_uri": "https://localhost:8080/"
        }
      },
      "source": [
        "motorcycles = ['honda', 'yamaha', 'suzuki']\n",
        "motorcycles.insert(1, 'ducati')#can give a place\n",
        "print(motorcycles)"
      ],
      "execution_count": null,
      "outputs": [
        {
          "output_type": "stream",
          "text": [
            "['honda', 'ducati', 'yamaha', 'suzuki']\n"
          ],
          "name": "stdout"
        }
      ]
    },
    {
      "cell_type": "code",
      "metadata": {
        "id": "mQBSTiLTr-L_",
        "outputId": "5c39f6b6-a72f-41e7-e2e8-3ba204e16dc0",
        "colab": {
          "base_uri": "https://localhost:8080/"
        }
      },
      "source": [
        "motorcycles = ['honda', 'yamaha', 'suzuki']\n",
        "del motorcycles[1] #remove element\n",
        "del motorcycles[0]\n",
        "print(motorcycles)"
      ],
      "execution_count": null,
      "outputs": [
        {
          "output_type": "stream",
          "text": [
            "['suzuki']\n"
          ],
          "name": "stdout"
        }
      ]
    },
    {
      "cell_type": "code",
      "metadata": {
        "id": "2BJgoMd-spzl",
        "outputId": "26d1c3bc-049f-4063-d3a5-621dac588e50",
        "colab": {
          "base_uri": "https://localhost:8080/"
        }
      },
      "source": [
        "motorcycles = ['honda', 'yamaha', 'suzuki']\n",
        "popped_motorcycle = motorcycles.pop()\n",
        "print(motorcycles)\n",
        "print(popped_motorcycle)"
      ],
      "execution_count": null,
      "outputs": [
        {
          "output_type": "stream",
          "text": [
            "['honda', 'yamaha']\n",
            "suzuki\n"
          ],
          "name": "stdout"
        }
      ]
    },
    {
      "cell_type": "code",
      "metadata": {
        "id": "9pttjns4s2YI",
        "outputId": "ca285f7e-74f9-460a-e4d2-4e8ca7d39112",
        "colab": {
          "base_uri": "https://localhost:8080/"
        }
      },
      "source": [
        "motorcycles = ['honda', 'yamaha', 'suzuki']\n",
        "popped_motorcycle = motorcycles.pop(0)\n",
        "print(motorcycles)\n",
        "print(popped_motorcycle)"
      ],
      "execution_count": null,
      "outputs": [
        {
          "output_type": "stream",
          "text": [
            "['yamaha', 'suzuki']\n",
            "honda\n"
          ],
          "name": "stdout"
        }
      ]
    },
    {
      "cell_type": "code",
      "metadata": {
        "id": "79C4XjLOtA9s",
        "outputId": "8dab9c94-acb8-485f-ea37-de3135942575",
        "colab": {
          "base_uri": "https://localhost:8080/"
        }
      },
      "source": [
        "motorcycles = ['honda', 'yamaha', 'suzuki', 'ducati']\n",
        "motorcycles.remove('ducati')\n",
        "print(motorcycles)"
      ],
      "execution_count": null,
      "outputs": [
        {
          "output_type": "stream",
          "text": [
            "['honda', 'yamaha', 'suzuki']\n"
          ],
          "name": "stdout"
        }
      ]
    },
    {
      "cell_type": "code",
      "metadata": {
        "id": "-_AFY_qhtNp0",
        "outputId": "87fec325-e15d-4ce5-e541-82ba3a820bfd",
        "colab": {
          "base_uri": "https://localhost:8080/"
        }
      },
      "source": [
        "numbers = [3, 13, 5, 1]\n",
        "numbers.sort()\n",
        "print(numbers)"
      ],
      "execution_count": null,
      "outputs": [
        {
          "output_type": "stream",
          "text": [
            "[1, 3, 5, 13]\n"
          ],
          "name": "stdout"
        }
      ]
    },
    {
      "cell_type": "code",
      "metadata": {
        "id": "afCMhtQNtdeh",
        "outputId": "0434c6a1-5aba-4d2f-b1ec-adcf0a64a7b8",
        "colab": {
          "base_uri": "https://localhost:8080/"
        }
      },
      "source": [
        "numbers.sort(reverse=True) # Reverse Sorting\n",
        "print(numbers)"
      ],
      "execution_count": null,
      "outputs": [
        {
          "output_type": "stream",
          "text": [
            "[13, 5, 3, 1]\n"
          ],
          "name": "stdout"
        }
      ]
    },
    {
      "cell_type": "code",
      "metadata": {
        "id": "wU5vBrYdtmvb",
        "outputId": "3ac9303b-216c-4852-b149-691c2118a82a",
        "colab": {
          "base_uri": "https://localhost:8080/"
        }
      },
      "source": [
        "numbers = [3, 13, 5, 1]\n",
        "print(sorted(numbers))                # Temporarily sorted list\n",
        "print(sorted(numbers, reverse=True))  # Temporarily reverse-sorted list\n",
        "print(numbers)"
      ],
      "execution_count": null,
      "outputs": [
        {
          "output_type": "stream",
          "text": [
            "[1, 3, 5, 13]\n",
            "[13, 5, 3, 1]\n",
            "[3, 13, 5, 1]\n"
          ],
          "name": "stdout"
        }
      ]
    },
    {
      "cell_type": "code",
      "metadata": {
        "id": "L4dVEp6Xtu-y",
        "outputId": "d1ed6f1c-dc9d-49d6-8251-152d66a8c779",
        "colab": {
          "base_uri": "https://localhost:8080/"
        }
      },
      "source": [
        "numbers = [3, 13, 5, 1]\n",
        "numbers.reverse()\n",
        "print(numbers)"
      ],
      "execution_count": null,
      "outputs": [
        {
          "output_type": "stream",
          "text": [
            "[1, 5, 13, 3]\n"
          ],
          "name": "stdout"
        }
      ]
    },
    {
      "cell_type": "code",
      "metadata": {
        "id": "wfNehV9It3px",
        "outputId": "64c67ac0-9205-41e0-bcab-0cc86e563ae2",
        "colab": {
          "base_uri": "https://localhost:8080/"
        }
      },
      "source": [
        "fruits = [\"Apple\", \"Mango\"]\n",
        "fruits1 = [\"Kiwi\", \"Pineapple\"]\n",
        "print(fruits + fruits1)"
      ],
      "execution_count": null,
      "outputs": [
        {
          "output_type": "stream",
          "text": [
            "['Apple', 'Mango', 'Kiwi', 'Pineapple']\n"
          ],
          "name": "stdout"
        }
      ]
    },
    {
      "cell_type": "code",
      "metadata": {
        "id": "kJ_Taeclt_ci",
        "outputId": "af1a0186-2b1c-4c74-ece6-b699ba25a566",
        "colab": {
          "base_uri": "https://localhost:8080/"
        }
      },
      "source": [
        "fruits.extend(fruits1)\n",
        "print(fruits)"
      ],
      "execution_count": null,
      "outputs": [
        {
          "output_type": "stream",
          "text": [
            "['Apple', 'Mango', 'Kiwi', 'Pineapple']\n"
          ],
          "name": "stdout"
        }
      ]
    },
    {
      "cell_type": "code",
      "metadata": {
        "id": "oGPrwTKLuInZ",
        "outputId": "c0c30f3d-5e27-4fdc-eb17-23ce085baf87",
        "colab": {
          "base_uri": "https://localhost:8080/"
        }
      },
      "source": [
        "arr = [1,2,3,4,5,6]\n",
        "print(max(arr))\n",
        "print(min(arr))\n",
        "print(len(arr))"
      ],
      "execution_count": null,
      "outputs": [
        {
          "output_type": "stream",
          "text": [
            "6\n",
            "1\n",
            "6\n"
          ],
          "name": "stdout"
        }
      ]
    },
    {
      "cell_type": "code",
      "metadata": {
        "id": "qlZDytj5upk9",
        "outputId": "cc15a8f4-bdf6-4b68-e28c-403134ad1409",
        "colab": {
          "base_uri": "https://localhost:8080/"
        }
      },
      "source": [
        "food = ['pizza', 'falafel', 'carrot cake', 'cannoli', 'ice cream']\n",
        "print(food[1:3])"
      ],
      "execution_count": null,
      "outputs": [
        {
          "output_type": "stream",
          "text": [
            "['falafel', 'carrot cake']\n"
          ],
          "name": "stdout"
        }
      ]
    },
    {
      "cell_type": "code",
      "metadata": {
        "id": "5Qz-GbLrurO3",
        "outputId": "dc123313-a2db-4e9b-ce59-8c830f30870b",
        "colab": {
          "base_uri": "https://localhost:8080/"
        }
      },
      "source": [
        "food = ['pizza', 'falafel', 'carrot cake', 'cannoli', 'ice cream']\n",
        "print(food[0:5:2])#Python takes a slice from index 0 to index 4 taking every 2nd element."
      ],
      "execution_count": null,
      "outputs": [
        {
          "output_type": "stream",
          "text": [
            "['pizza', 'carrot cake', 'ice cream']\n"
          ],
          "name": "stdout"
        }
      ]
    },
    {
      "cell_type": "code",
      "metadata": {
        "id": "kwnDK1m9uzyH",
        "outputId": "4f55b155-bb66-4280-a166-30b3d1ecf0b8",
        "colab": {
          "base_uri": "https://localhost:8080/"
        }
      },
      "source": [
        "food = ['pizza', 'falafel', 'carrot cake', 'cannoli', 'ice cream']\n",
        "print(food[:3]) #start from 0 to 2nd index"
      ],
      "execution_count": null,
      "outputs": [
        {
          "output_type": "stream",
          "text": [
            "['pizza', 'falafel', 'carrot cake']\n"
          ],
          "name": "stdout"
        }
      ]
    },
    {
      "cell_type": "code",
      "metadata": {
        "id": "pyQRkwucu4JH",
        "outputId": "c2a32ff9-829e-4e23-e40e-8417ce9fa000",
        "colab": {
          "base_uri": "https://localhost:8080/"
        }
      },
      "source": [
        "food = ['pizza', 'falafel', 'carrot cake', 'cannoli', 'ice cream']\n",
        "print(food[3:])#start with 3rd index upto last"
      ],
      "execution_count": null,
      "outputs": [
        {
          "output_type": "stream",
          "text": [
            "['cannoli', 'ice cream']\n"
          ],
          "name": "stdout"
        }
      ]
    },
    {
      "cell_type": "code",
      "metadata": {
        "id": "4R1X9pl3vR4i",
        "outputId": "a2cdf520-1c94-42c0-ab18-61828e832e37",
        "colab": {
          "base_uri": "https://localhost:8080/"
        }
      },
      "source": [
        "a = [1, 2, 3, 4, 5]\n",
        "b = a\n",
        "b = a.copy()\n",
        "b = a[:]\n",
        "print(b)\n"
      ],
      "execution_count": null,
      "outputs": [
        {
          "output_type": "stream",
          "text": [
            "[1, 2, 3, 4, 5]\n"
          ],
          "name": "stdout"
        }
      ]
    },
    {
      "cell_type": "code",
      "metadata": {
        "id": "Y7mEgBv7vnRu",
        "outputId": "03e58dff-029f-472c-9fe7-c686e7d51332",
        "colab": {
          "base_uri": "https://localhost:8080/"
        }
      },
      "source": [
        "a = [1, 2, 3, 4, 5]\n",
        "b = a[: : -1] # Reversed list\n",
        "print(a)\n",
        "print(b)"
      ],
      "execution_count": null,
      "outputs": [
        {
          "output_type": "stream",
          "text": [
            "[1, 2, 3, 4, 5]\n",
            "[5, 4, 3, 2, 1]\n"
          ],
          "name": "stdout"
        }
      ]
    },
    {
      "cell_type": "code",
      "metadata": {
        "id": "j_9ZUgbYv1O9",
        "outputId": "08bcc9cf-1af3-4999-c464-5e38516e3f12",
        "colab": {
          "base_uri": "https://localhost:8080/"
        }
      },
      "source": [
        "a = [1, 2, 3, 4, 5]\n",
        "b = a[-3: ]   # Last three elements\n",
        "print(b)"
      ],
      "execution_count": null,
      "outputs": [
        {
          "output_type": "stream",
          "text": [
            "[3, 4, 5]\n"
          ],
          "name": "stdout"
        }
      ]
    },
    {
      "cell_type": "code",
      "metadata": {
        "id": "uvsLkII8zTLV",
        "outputId": "00c47743-9b13-4520-b57b-7a5543618b96",
        "colab": {
          "base_uri": "https://localhost:8080/"
        }
      },
      "source": [
        "tuple #Python refers to values that cannot change as immutable, and an immutable list is called a tuple. Tuples are ordered and consist of a number of values separated by commas (though we use round brackets `()` for them to make it look neater."
      ],
      "execution_count": null,
      "outputs": [
        {
          "output_type": "execute_result",
          "data": {
            "text/plain": [
              "tuple"
            ]
          },
          "metadata": {
            "tags": []
          },
          "execution_count": 88
        }
      ]
    },
    {
      "cell_type": "code",
      "metadata": {
        "id": "MvJ2rcYQzVU4",
        "outputId": "6f436af9-bd40-417e-a93d-66afdc8831e1",
        "colab": {
          "base_uri": "https://localhost:8080/"
        }
      },
      "source": [
        "my_tuple = (1, 2, 3)\n",
        "type(my_tuple)"
      ],
      "execution_count": null,
      "outputs": [
        {
          "output_type": "execute_result",
          "data": {
            "text/plain": [
              "tuple"
            ]
          },
          "metadata": {
            "tags": []
          },
          "execution_count": 89
        }
      ]
    },
    {
      "cell_type": "code",
      "metadata": {
        "id": "0dyWbQsyzkUm",
        "outputId": "85c1145f-d935-44b2-bd69-5f51148cdb82",
        "colab": {
          "base_uri": "https://localhost:8080/"
        }
      },
      "source": [
        "my_tuple = (1, 2, 3)\n",
        "print(my_tuple[0])\n"
      ],
      "execution_count": null,
      "outputs": [
        {
          "output_type": "stream",
          "text": [
            "1\n"
          ],
          "name": "stdout"
        }
      ]
    },
    {
      "cell_type": "code",
      "metadata": {
        "id": "n-xvRijqz5v1",
        "outputId": "759b9477-4179-4390-a310-7478d544ffe9",
        "colab": {
          "base_uri": "https://localhost:8080/",
          "height": 180
        }
      },
      "source": [
        "my_tuple = (1, 2, 3)\n",
        "my_tuple[1] = 5"
      ],
      "execution_count": null,
      "outputs": [
        {
          "output_type": "error",
          "ename": "TypeError",
          "evalue": "ignored",
          "traceback": [
            "\u001b[0;31m---------------------------------------------------------------------------\u001b[0m",
            "\u001b[0;31mTypeError\u001b[0m                                 Traceback (most recent call last)",
            "\u001b[0;32m<ipython-input-91-e95ee8c9ca9e>\u001b[0m in \u001b[0;36m<module>\u001b[0;34m()\u001b[0m\n\u001b[1;32m      1\u001b[0m \u001b[0mmy_tuple\u001b[0m \u001b[0;34m=\u001b[0m \u001b[0;34m(\u001b[0m\u001b[0;36m1\u001b[0m\u001b[0;34m,\u001b[0m \u001b[0;36m2\u001b[0m\u001b[0;34m,\u001b[0m \u001b[0;36m3\u001b[0m\u001b[0;34m)\u001b[0m\u001b[0;34m\u001b[0m\u001b[0;34m\u001b[0m\u001b[0m\n\u001b[0;32m----> 2\u001b[0;31m \u001b[0mmy_tuple\u001b[0m\u001b[0;34m[\u001b[0m\u001b[0;36m1\u001b[0m\u001b[0;34m]\u001b[0m \u001b[0;34m=\u001b[0m \u001b[0;36m5\u001b[0m\u001b[0;34m\u001b[0m\u001b[0;34m\u001b[0m\u001b[0m\n\u001b[0m",
            "\u001b[0;31mTypeError\u001b[0m: 'tuple' object does not support item assignment"
          ]
        }
      ]
    },
    {
      "cell_type": "code",
      "metadata": {
        "id": "WIXvugB80asu",
        "outputId": "95d742c2-45ad-45af-e529-aab38b3e2514",
        "colab": {
          "base_uri": "https://localhost:8080/"
        }
      },
      "source": [
        "print(my_tuple.count(3))\n",
        "\n",
        "print(my_tuple.index(1))"
      ],
      "execution_count": null,
      "outputs": [
        {
          "output_type": "stream",
          "text": [
            "1\n",
            "0\n"
          ],
          "name": "stdout"
        }
      ]
    },
    {
      "cell_type": "code",
      "metadata": {
        "id": "dzYaGu7d09i0",
        "outputId": "c72d560f-d6c6-4cf4-caf9-16c656d415a3",
        "colab": {
          "base_uri": "https://localhost:8080/",
          "height": 163
        }
      },
      "source": [
        "dictionary"
      ],
      "execution_count": null,
      "outputs": [
        {
          "output_type": "error",
          "ename": "NameError",
          "evalue": "ignored",
          "traceback": [
            "\u001b[0;31m---------------------------------------------------------------------------\u001b[0m",
            "\u001b[0;31mNameError\u001b[0m                                 Traceback (most recent call last)",
            "\u001b[0;32m<ipython-input-93-c8c896c3840a>\u001b[0m in \u001b[0;36m<module>\u001b[0;34m()\u001b[0m\n\u001b[0;32m----> 1\u001b[0;31m \u001b[0mdictionary\u001b[0m\u001b[0;34m\u001b[0m\u001b[0;34m\u001b[0m\u001b[0m\n\u001b[0m",
            "\u001b[0;31mNameError\u001b[0m: name 'dictionary' is not defined"
          ]
        }
      ]
    },
    {
      "cell_type": "code",
      "metadata": {
        "id": "1U5jr1dW1Kc8",
        "outputId": "3e2a7915-9f7e-4071-8342-6519011e7429",
        "colab": {
          "base_uri": "https://localhost:8080/",
          "height": 163
        }
      },
      "source": [
        "Dictionaries"
      ],
      "execution_count": null,
      "outputs": [
        {
          "output_type": "error",
          "ename": "NameError",
          "evalue": "ignored",
          "traceback": [
            "\u001b[0;31m---------------------------------------------------------------------------\u001b[0m",
            "\u001b[0;31mNameError\u001b[0m                                 Traceback (most recent call last)",
            "\u001b[0;32m<ipython-input-94-c36a1c041f2b>\u001b[0m in \u001b[0;36m<module>\u001b[0;34m()\u001b[0m\n\u001b[0;32m----> 1\u001b[0;31m \u001b[0mDictionaries\u001b[0m\u001b[0;34m\u001b[0m\u001b[0;34m\u001b[0m\u001b[0m\n\u001b[0m",
            "\u001b[0;31mNameError\u001b[0m: name 'Dictionaries' is not defined"
          ]
        }
      ]
    },
    {
      "cell_type": "code",
      "metadata": {
        "id": "YsJl671s1Mul",
        "outputId": "a7d68814-34ce-4e56-e2bc-c9fd1d4ad95a",
        "colab": {
          "base_uri": "https://localhost:8080/"
        }
      },
      "source": [
        "my_dictionary = {'mickey': 'mouse',\n",
        "                 'donald': 'duck',}\n",
        "print(my_dictionary['donald'])"
      ],
      "execution_count": null,
      "outputs": [
        {
          "output_type": "stream",
          "text": [
            "duck\n"
          ],
          "name": "stdout"
        }
      ]
    },
    {
      "cell_type": "code",
      "metadata": {
        "id": "WIoy8wqu1ifl",
        "outputId": "21d7c551-9832-4d70-949f-901110b37340",
        "colab": {
          "base_uri": "https://localhost:8080/"
        }
      },
      "source": [
        "my_dictionary['color'] = 'yellow'\n",
        "print(my_dictionary)"
      ],
      "execution_count": null,
      "outputs": [
        {
          "output_type": "stream",
          "text": [
            "{'mickey': 'mouse', 'donald': 'duck', 'color': 'yellow'}\n"
          ],
          "name": "stdout"
        }
      ]
    },
    {
      "cell_type": "code",
      "metadata": {
        "id": "B-jTOWEe13mC",
        "outputId": "ee7bda2c-7fc4-43a5-bd92-093421c40859",
        "colab": {
          "base_uri": "https://localhost:8080/"
        }
      },
      "source": [
        "my_dictionary['color'] = 'blue'\n",
        "print(my_dictionary)\n"
      ],
      "execution_count": null,
      "outputs": [
        {
          "output_type": "stream",
          "text": [
            "{'mickey': 'mouse', 'donald': 'duck', 'color': 'blue'}\n"
          ],
          "name": "stdout"
        }
      ]
    },
    {
      "cell_type": "code",
      "metadata": {
        "id": "w2Bt1CuD2RMR",
        "outputId": "01e8fd18-f76e-458f-bc8e-4f0d6704a6e6",
        "colab": {
          "base_uri": "https://localhost:8080/"
        }
      },
      "source": [
        "del my_dictionary['mickey']#delete\n",
        "print(my_dictionary)\n"
      ],
      "execution_count": null,
      "outputs": [
        {
          "output_type": "stream",
          "text": [
            "{'donald': 'duck', 'color': 'blue'}\n"
          ],
          "name": "stdout"
        }
      ]
    },
    {
      "cell_type": "code",
      "metadata": {
        "id": "GfPAvaBg2l5A",
        "outputId": "6206b230-c349-4b54-a5f7-3140772710a0",
        "colab": {
          "base_uri": "https://localhost:8080/"
        }
      },
      "source": [
        "cars = {'john': 'mercedes', 'jack': 'bmw'}\n",
        "print(cars.keys())"
      ],
      "execution_count": null,
      "outputs": [
        {
          "output_type": "stream",
          "text": [
            "dict_keys(['john', 'jack'])\n"
          ],
          "name": "stdout"
        }
      ]
    },
    {
      "cell_type": "code",
      "metadata": {
        "id": "Gsp_FRuq25no",
        "outputId": "6f92bb82-acd7-4672-f4ef-8c566d0ca408",
        "colab": {
          "base_uri": "https://localhost:8080/"
        }
      },
      "source": [
        "cars = {'john': 'mercedes', 'jack': 'bmw'}\n",
        "print(cars.keys())#Returns a list containing the dictionary's keys\n",
        "print(cars.items())#Returns a list containing a tuple for each key value pair.\n",
        "print(cars.values())\n",
        "print(cars.get('john', 'key not found'))#Returns the value of the specified key. An optional argument can be passed to print that if they key doesn't exist.\n",
        "print(cars.get('bill', 'key not found'))\n",
        "print(cars.pop('john'))#Removes the element with the specified key\n",
        "print(cars)\n",
        "cars['bill'] = 'audi'\n",
        "del cars['jack']\n",
        "print(cars)\n",
        "cars.clear()#Removes all the elements from the dictionary\n",
        "print(cars)"
      ],
      "execution_count": null,
      "outputs": [
        {
          "output_type": "stream",
          "text": [
            "dict_keys(['john', 'jack'])\n",
            "dict_items([('john', 'mercedes'), ('jack', 'bmw')])\n",
            "dict_values(['mercedes', 'bmw'])\n",
            "mercedes\n",
            "key not found\n",
            "mercedes\n",
            "{'jack': 'bmw'}\n",
            "{'bill': 'audi'}\n",
            "{}\n"
          ],
          "name": "stdout"
        }
      ]
    }
  ]
}