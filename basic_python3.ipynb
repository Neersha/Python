{
  "nbformat": 4,
  "nbformat_minor": 0,
  "metadata": {
    "colab": {
      "provenance": [],
      "include_colab_link": true
    },
    "kernelspec": {
      "display_name": "Python 3",
      "language": "python",
      "name": "python3"
    },
    "language_info": {
      "codemirror_mode": {
        "name": "ipython",
        "version": 3
      },
      "file_extension": ".py",
      "mimetype": "text/x-python",
      "name": "python",
      "nbconvert_exporter": "python",
      "pygments_lexer": "ipython3",
      "version": "3.8.5"
    }
  },
  "cells": [
    {
      "cell_type": "markdown",
      "metadata": {
        "id": "view-in-github",
        "colab_type": "text"
      },
      "source": [
        "<a href=\"https://colab.research.google.com/github/Neersha/Python/blob/main/basic_python3.ipynb\" target=\"_parent\"><img src=\"https://colab.research.google.com/assets/colab-badge.svg\" alt=\"Open In Colab\"/></a>"
      ]
    },
    {
      "cell_type": "markdown",
      "metadata": {
        "id": "TwDpcjGHdzLL"
      },
      "source": [
        "**AUTHOR**: SOHAM NAHA  \n",
        "**GITHUB**: www.github.com/soham2109"
      ]
    },
    {
      "cell_type": "markdown",
      "metadata": {
        "id": "hd4vIzKTu8IV"
      },
      "source": [
        "Python's Features\n",
        "=================\n",
        "**Features of Python**\n",
        "\n",
        "-   Designed by Guido van Rossum in the 1980s-90s.\n",
        "\n",
        "-   Open-source, interpreted, high-level, general-purpose\n",
        "-   Dynamically-typed.\n",
        "-   Supports multiple programming language paradigms\n",
        "-   Often described as a \"batteries included\" language due to its comprehensive standard library.\n",
        "-   Great online community\n",
        "-   Python was named after the BBC show \\\"Monty Python's Flying Circus\\\"\\\n",
        "-   Ranks $3^{rd}$ in [TIOBE's index](https://www.tiobe.com/tiobe-index/) and $1^{st}$ in [PYPL ranking](https://pypl.github.io/PYPL.html)."
      ]
    },
    {
      "cell_type": "markdown",
      "metadata": {
        "id": "VhDQhtoFvNup"
      },
      "source": [
        "Journey into Python\n",
        "===================\n",
        "\n",
        "Comparison of code-lengths **Hello World! program in the top 3\n",
        "programming languages.**\n",
        "\n",
        "\n",
        "C++\n",
        "\n",
        "```cpp\n",
        "#include<iostream>\n",
        "using namespace std;\n",
        "\n",
        "main(){\n",
        "\tcout << \"Hello World.\" << endl;\n",
        "}\n",
        "```\n",
        "\n",
        "Java\n",
        "\n",
        "```java\n",
        "class HelloWorld {\n",
        "    public static void main(String[] args) {\n",
        "        System.out.println(\"Hello World.\");\n",
        "    }\n",
        "}\n",
        "```\n",
        "\n",
        "Python\n",
        "\n",
        "```python\n",
        "print(\"Hello World.\")\n",
        "```\n"
      ]
    },
    {
      "cell_type": "markdown",
      "metadata": {
        "id": "WTUMlCtinCf6"
      },
      "source": [
        "### Hello World in Python\n",
        "First thing that we want to learn is the `print` command and how to comment somethings out.  \n",
        "```python\n",
        "# Single Line Comment\n",
        "# Used mostly to describe what a line of code does\n",
        "\"\"\"\n",
        "Multi-line comment in three quotes\n",
        "\n",
        "Used a DOCSTRINGS to describe what a\n",
        "function or class performs.\n",
        "\"\"\"\n",
        "print(\"Hello World\")\n",
        "```"
      ]
    },
    {
      "cell_type": "markdown",
      "metadata": {
        "id": "tiRT-8glpBH4"
      },
      "source": [
        "We can say that \"\"\" ... \"\"\" is a multi-line comment but not truly. It is actually a multi-line string, and as it is not assigned to any variable it is ignored."
      ]
    },
    {
      "cell_type": "code",
      "metadata": {
        "id": "2PzSM8dYnf-w",
        "colab": {
          "base_uri": "https://localhost:8080/",
          "height": 35
        },
        "outputId": "37909399-3f4b-4c8f-ad9c-3ff5d260e3a8"
      },
      "source": [
        "\"\"\"\n",
        "Multi-line comment in three quotes\n",
        "Usually used to describe what a function or\n",
        "class performs.\n",
        "\"\"\""
      ],
      "execution_count": null,
      "outputs": [
        {
          "output_type": "execute_result",
          "data": {
            "application/vnd.google.colaboratory.intrinsic+json": {
              "type": "string"
            },
            "text/plain": [
              "'\\nMulti-line comment in three quotes\\nUsually used to describe what a function or \\nclass performs.\\n'"
            ]
          },
          "metadata": {
            "tags": []
          },
          "execution_count": 1
        }
      ]
    },
    {
      "cell_type": "code",
      "metadata": {
        "id": "sYE9bF7om9Lr",
        "colab": {
          "base_uri": "https://localhost:8080/"
        },
        "outputId": "0e50509d-928c-4fc7-fe14-f6278cf34a86"
      },
      "source": [
        "print(\"Hello\", \"IITB\") # Prints Hello World"
      ],
      "execution_count": null,
      "outputs": [
        {
          "output_type": "stream",
          "text": [
            "Hello IITB\n"
          ],
          "name": "stdout"
        }
      ]
    },
    {
      "cell_type": "markdown",
      "metadata": {
        "id": "cIuaJk-xvlJv"
      },
      "source": [
        "Python's Philosophy **The Zen of Python**"
      ]
    },
    {
      "cell_type": "code",
      "metadata": {
        "colab": {
          "base_uri": "https://localhost:8080/"
        },
        "id": "R-iZ4QFQ0k4s",
        "outputId": "7b5b4e9c-72ed-4263-a728-b66505786dee"
      },
      "source": [
        "import this"
      ],
      "execution_count": null,
      "outputs": [
        {
          "output_type": "stream",
          "text": [
            "The Zen of Python, by Tim Peters\n",
            "\n",
            "Beautiful is better than ugly.\n",
            "Explicit is better than implicit.\n",
            "Simple is better than complex.\n",
            "Complex is better than complicated.\n",
            "Flat is better than nested.\n",
            "Sparse is better than dense.\n",
            "Readability counts.\n",
            "Special cases aren't special enough to break the rules.\n",
            "Although practicality beats purity.\n",
            "Errors should never pass silently.\n",
            "Unless explicitly silenced.\n",
            "In the face of ambiguity, refuse the temptation to guess.\n",
            "There should be one-- and preferably only one --obvious way to do it.\n",
            "Although that way may not be obvious at first unless you're Dutch.\n",
            "Now is better than never.\n",
            "Although never is often better than *right* now.\n",
            "If the implementation is hard to explain, it's a bad idea.\n",
            "If the implementation is easy to explain, it may be a good idea.\n",
            "Namespaces are one honking great idea -- let's do more of those!\n"
          ],
          "name": "stdout"
        }
      ]
    },
    {
      "cell_type": "markdown",
      "metadata": {
        "id": "bO2OtLh4qh-V"
      },
      "source": [
        "### Help for what a command does?\n",
        "Python has a built-in tool called `help()` that allows users to infer or query the things the syntax, inputs, outputs, etc. that a function or command might perform.  \n",
        "To use: e.g. `help(print)`"
      ]
    },
    {
      "cell_type": "code",
      "metadata": {
        "id": "-9URZ9eyrCTM",
        "colab": {
          "base_uri": "https://localhost:8080/"
        },
        "outputId": "fd46082c-b760-40af-cc16-320f91dbf2a5"
      },
      "source": [
        "help(print)"
      ],
      "execution_count": null,
      "outputs": [
        {
          "output_type": "stream",
          "text": [
            "Help on built-in function print in module builtins:\n",
            "\n",
            "print(...)\n",
            "    print(value, ..., sep=' ', end='\\n', file=sys.stdout, flush=False)\n",
            "    \n",
            "    Prints the values to a stream, or to sys.stdout by default.\n",
            "    Optional keyword arguments:\n",
            "    file:  a file-like object (stream); defaults to the current sys.stdout.\n",
            "    sep:   string inserted between values, default a space.\n",
            "    end:   string appended after the last value, default a newline.\n",
            "    flush: whether to forcibly flush the stream.\n",
            "\n"
          ],
          "name": "stdout"
        }
      ]
    },
    {
      "cell_type": "code",
      "metadata": {
        "id": "Kyr2gnfCsTPl"
      },
      "source": [
        "class color:\n",
        "   PURPLE = '\\033[95m'\n",
        "   BLUE = '\\033[96m'\n",
        "   DARKBLUE = '\\033[36m'\n",
        "   BLUE = '\\033[94m'\n",
        "   GREEN = '\\033[92m'\n",
        "   YELLOW = '\\033[93m'\n",
        "   RED = '\\033[91m'\n",
        "   BOLD = '\\033[1m'\n",
        "   UNDERLINE = '\\033[4m'\n",
        "   END = '\\033[0m'"
      ],
      "execution_count": null,
      "outputs": []
    },
    {
      "cell_type": "markdown",
      "metadata": {
        "id": "-dvg24L-pV-e"
      },
      "source": [
        "### Data-types in Python\n",
        "Python supports multiple data-types. They are:  \n",
        "\n",
        "- integers `int` , e.g. 5\n",
        "- floating point numbers `float` , e.g. 3.0\n",
        "- strings `str`, e.g. \"IITB\"\n",
        "- boolean `bool`, e.g. True\n",
        "- complex `complex` , e.g. 2+3j\n",
        "\n",
        "How to check the type of a variable?   \n",
        "Two possible ways:\n",
        "\n",
        "- First, let python decide the type for you using the `type()` command in python.\n",
        "- Else, check ourselves which data-type instance does the value belong to, using the `isinstance()` command"
      ]
    },
    {
      "cell_type": "code",
      "metadata": {
        "id": "JSsWYcIqoutO",
        "colab": {
          "base_uri": "https://localhost:8080/"
        },
        "outputId": "9517f46a-e50d-4359-fa89-b5d3f724ddce"
      },
      "source": [
        "# USING type() command\n",
        "print(\"------------------\")\n",
        "print(\"Using type() command\")\n",
        "print(\"------------------\")\n",
        "print(color.BLUE,\"type(5): \",color.END, type(5))\n",
        "print(color.BLUE,\"type(3.0): \",color.END, type(3.0))\n",
        "print(color.BLUE,\"type('IITB'): \",color.END, type(\"IITB\"))\n",
        "print(color.BLUE,\"type(True): \",color.END, type(True))\n",
        "print(color.BLUE,\"type(2+3j): \",color.END, type(2+3j))\n",
        "\n",
        "# USING ISINSTANCE COMMAND\n",
        "print(\"\\n\\n------------------\")\n",
        "print(\"Using isinstance() command\")\n",
        "print(\"------------------\")\n",
        "print(color.BLUE,\"isinstance(5, int): \",color.END,isinstance(5, int))\n",
        "print(color.BLUE,\"isinstance(5.045, float): \",color.END,isinstance(5.045, float))\n",
        "print(color.BLUE,\"isinstance('5', str): \",color.END,isinstance('5', str))\n",
        "print(color.BLUE,\"isinstance(5+5j, complex): \",color.END,isinstance(5+5j, complex))\n",
        "print(color.BLUE,\"isinstance(False, bool): \",color.END,isinstance(False, bool))\n",
        "print(color.BLUE,\"isinstance(5, bool): \",color.END,isinstance(5, bool))"
      ],
      "execution_count": null,
      "outputs": [
        {
          "output_type": "stream",
          "text": [
            "------------------\n",
            "Using type() command\n",
            "------------------\n",
            "\u001b[94m type(5):  \u001b[0m <class 'int'>\n",
            "\u001b[94m type(3.0):  \u001b[0m <class 'float'>\n",
            "\u001b[94m type('IITB'):  \u001b[0m <class 'str'>\n",
            "\u001b[94m type(True):  \u001b[0m <class 'bool'>\n",
            "\u001b[94m type(2+3j):  \u001b[0m <class 'complex'>\n",
            "\n",
            "\n",
            "------------------\n",
            "Using isinstance() command\n",
            "------------------\n",
            "\u001b[94m isinstance(5, int):  \u001b[0m True\n",
            "\u001b[94m isinstance(5.045, float):  \u001b[0m True\n",
            "\u001b[94m isinstance('5', str):  \u001b[0m True\n",
            "\u001b[94m isinstance(5+5j, complex):  \u001b[0m True\n",
            "\u001b[94m isinstance(False, bool):  \u001b[0m True\n",
            "\u001b[94m isinstance(5, bool):  \u001b[0m False\n"
          ],
          "name": "stdout"
        }
      ]
    },
    {
      "cell_type": "markdown",
      "metadata": {
        "id": "DCEGateUweJy"
      },
      "source": [
        "### Python Variables\n",
        "Variables as the name suggests are those containers or placeholders of values that may vary. Some simple examples are as follows:"
      ]
    },
    {
      "cell_type": "code",
      "metadata": {
        "colab": {
          "base_uri": "https://localhost:8080/"
        },
        "id": "KqON78jAxO1M",
        "outputId": "88b67981-22dc-44d1-ebab-8e39d92f7c48"
      },
      "source": [
        "# int x = 5\n",
        "boolean = True #<bool> data type\n",
        "x = 5 # <int> data-type\n",
        "y = 5.5 # <float> data-type\n",
        "sci_not = 5.5e3 # scientific notation\n",
        "z = \"IIT Bombay\" # <str> data-type\n",
        "a = 'c' # also <str>\n",
        "b=2+3j # <complex> data-type\n",
        "\n",
        "print(\"----------------\")\n",
        "print(\"Checking the type of variables\")\n",
        "print(\"----------------\")\n",
        "print(color.BLUE,\"Type of boolean: \",color.END,type(boolean))\n",
        "print(color.BLUE,\"Type of x: \",color.END,type(x))\n",
        "print(color.BLUE,\"Type of y: \",color.END,type(y))\n",
        "print(color.BLUE,\"Type of sci_not: \",color.END,type(sci_not))\n",
        "print(color.BLUE,\"Type of z: \",color.END,type(z))\n",
        "print(color.BLUE,\"Type of a: \",color.END,type(a))\n",
        "print(color.BLUE,\"Type of b: \",color.END,type(b))\n",
        "print(color.BLUE,\"Type of b.conjugate(): \",color.END,type(b.conjugate()))\n",
        "print(color.BLUE,\"b: \",color.END,b,color.BLUE,\"b.conjugate(): \",color.END,b.conjugate())"
      ],
      "execution_count": null,
      "outputs": [
        {
          "output_type": "stream",
          "text": [
            "----------------\n",
            "Checking the type of variables\n",
            "----------------\n",
            "\u001b[94m Type of boolean:  \u001b[0m <class 'bool'>\n",
            "\u001b[94m Type of x:  \u001b[0m <class 'int'>\n",
            "\u001b[94m Type of y:  \u001b[0m <class 'float'>\n",
            "\u001b[94m Type of sci_not:  \u001b[0m <class 'float'>\n",
            "\u001b[94m Type of z:  \u001b[0m <class 'str'>\n",
            "\u001b[94m Type of a:  \u001b[0m <class 'str'>\n",
            "\u001b[94m Type of b:  \u001b[0m <class 'complex'>\n",
            "\u001b[94m Type of b.conjugate():  \u001b[0m <class 'complex'>\n",
            "\u001b[94m b:  \u001b[0m (2+3j) \u001b[94m b.conjugate():  \u001b[0m (2-3j)\n"
          ],
          "name": "stdout"
        }
      ]
    },
    {
      "cell_type": "markdown",
      "metadata": {
        "id": "8ZuL5ZKux-yX"
      },
      "source": [
        "### Variable Naming Conventions\n",
        "Source: [PEP 8 Styling](https://www.python.org/dev/peps/pep-0008/)\n",
        "\n",
        "-   **Readability is important**\n",
        "\n",
        "-   Descriptive names are very useful.\n",
        "\n",
        "-   Python keywords cannot be used as variable names.  \n",
        "    The following are the 35 python keywords:  \n",
        "    \n",
        "    `False` `None` `True` `and` `as` `assert` `async` `await` `break` `class` `continue` `def` `del` `elif` `else` `except` `finally` `for` `from` `global` `if` `import` `in` `is` `lambda` `nonlocal` `not` `or` `pass` `raise` `return` `try` `while` `with` `yield `\n",
        "\n",
        "-   Use a single trailing underscore '\\_' with keywords, if needed.\n",
        "\n",
        "-   Variables names must start with a letter or an underscore.\n",
        "\n",
        "-   The remainder of your variable name may consist of letters, numbers\n",
        "    and underscores.\n",
        "\n",
        "-   Python is case sensitive.\n",
        "\n",
        "-   Avoid using the lowercase letter 'l', uppercase 'O' and uppercase\n",
        "    'I'.\n",
        "\n",
        "-   Can use snake\\_case or CamelCase or mixedCase."
      ]
    },
    {
      "cell_type": "code",
      "metadata": {
        "id": "dH1gc9t3zzRg",
        "colab": {
          "base_uri": "https://localhost:8080/"
        },
        "outputId": "7b4384b4-44c4-43e6-e70d-48f1408a5c73"
      },
      "source": [
        "# To find out the python keywords\n",
        "import keyword\n",
        "print(\"Total number of keywords in python: \", len(keyword.kwlist))\n",
        "print(\"The keywords are: \\n\", *keyword.kwlist)"
      ],
      "execution_count": null,
      "outputs": [
        {
          "output_type": "stream",
          "text": [
            "Total number of keywords in python:  35\n",
            "The keywords are: \n",
            " False None True and as assert async await break class continue def del elif else except finally for from global if import in is lambda nonlocal not or pass raise return try while with yield\n"
          ],
          "name": "stdout"
        }
      ]
    },
    {
      "cell_type": "code",
      "metadata": {
        "id": "bFQlo8yI0x6f"
      },
      "source": [
        "# variable naming Conventions\n",
        "my_int = 1 #snake_case\n",
        "MyInt = 2 # CamelCase\n",
        "myInt = 3 #mixedCase\n",
        "my_Int_case = 4 #also mix"
      ],
      "execution_count": null,
      "outputs": []
    },
    {
      "cell_type": "markdown",
      "metadata": {
        "id": "Pwu9AqAqsXDd"
      },
      "source": [
        "### Operations in Python\n",
        "We have different types of operations in python, like in any other programming language that you may come across. They are:  \n",
        "- Arithmetic Operations (+, -, /, \\*, %, //,  $**$)\n",
        "\n",
        "**Symbol**  |    **Task**\n",
        "------------| ----------------\n",
        "    $+$     |     Addition\n",
        "    $-$     |   Subtraction\n",
        "    $/$     |     Division\n",
        "    $*$     |  Multiplication\n",
        "    %    |      Modulo\n",
        "    $//$    |  Floor Division\n",
        "    $**$    |     exponent"
      ]
    },
    {
      "cell_type": "code",
      "metadata": {
        "id": "lzfuoPySp3ml",
        "colab": {
          "base_uri": "https://localhost:8080/"
        },
        "outputId": "b3c3e094-d2d5-4f92-c882-5ba9d52190c3"
      },
      "source": [
        "print(\"---------------------\")\n",
        "print(\"ARITHMETIC OPERATIONS\")\n",
        "print(\"--------------------\")\n",
        "# double assignment\n",
        "x, y = 1+2, 5-1\n",
        "print(\"x+y =\", x*y, \"where x= {} and y= {}\".format(x,y)) #prints 12\n",
        "u, v = \"-\", \"+\"\n",
        "print(\"u+v = \",u+v, \"where u = {} and v = {}\".format(u, v))  #prints \"-+\"\n",
        "print(\"(u+v)*3\", (u+v)*3, \"where (u+v) = '{}'\".format(u+v))\n",
        "#prints \"-+-+-+\"\n",
        "\n",
        "#now if we set y = 5.0-1\n",
        "y = 5.0-1 # typecast to float\n",
        "print(color.DARKBLUE,\"x = \",color.END,x,color.DARKBLUE,\" || y =\",color.END,y,sep=\"\")\n",
        "print(color.GREEN, \"x*y = \", color.END,x*y,sep=\"\") # prints 12.0\n",
        "\n",
        "#calculate 3^4 = 81\n",
        "print(color.GREEN, \"3**4 = \", color.END,3**4,sep=\"\") # 81\n",
        "# check modulo 3\n",
        "print(color.GREEN, \"y%3 = \", color.END, y%3,sep=\"\") #prints 1.0\n",
        "print(color.GREEN, \"14//5 = \", color.END, 14//5,sep=\"\") #prints 2\n",
        "# above 3 operations does\n",
        "# not work with strings"
      ],
      "execution_count": null,
      "outputs": [
        {
          "output_type": "stream",
          "text": [
            "---------------------\n",
            "ARITHMETIC OPERATIONS\n",
            "--------------------\n",
            "x+y = 12 where x= 3 and y= 4\n",
            "u+v =  -+ where u = - and v = +\n",
            "(u+v)*3 -+-+-+ where (u+v) = '-+'\n",
            "\u001b[36mx = \u001b[0m3\u001b[36m || y =\u001b[0m4.0\n",
            "\u001b[92mx*y = \u001b[0m12.0\n",
            "\u001b[92m3**4 = \u001b[0m81\n",
            "\u001b[92my%3 = \u001b[0m1.0\n",
            "\u001b[92m14//5 = \u001b[0m2\n"
          ],
          "name": "stdout"
        }
      ]
    },
    {
      "cell_type": "code",
      "metadata": {
        "colab": {
          "base_uri": "https://localhost:8080/"
        },
        "id": "S6_oRpgQFN1w",
        "outputId": "24a93160-c4ff-421b-898d-1c6618cffe8c"
      },
      "source": [
        "x,y = divmod(14,5)\n",
        "print(x,y)"
      ],
      "execution_count": null,
      "outputs": [
        {
          "output_type": "stream",
          "text": [
            "2 4\n"
          ],
          "name": "stdout"
        }
      ]
    },
    {
      "cell_type": "markdown",
      "metadata": {
        "id": "grk8HsDy4kK-"
      },
      "source": [
        "- Logical Operations (`and`, `or` and `not`)\n",
        "\n",
        "**Symbol**  |   **Task**\n",
        "------------| ---------------\n",
        "    `and`     |  AND operation\n",
        "    `or`      | OR operation\n",
        "    `not`     |  NOT operation\n"
      ]
    },
    {
      "cell_type": "code",
      "metadata": {
        "id": "RadSeOSA4kpo",
        "colab": {
          "base_uri": "https://localhost:8080/"
        },
        "outputId": "02708fef-e35b-44b2-e8c0-7319861ace91"
      },
      "source": [
        "print(\"---------------------\")\n",
        "print(\"LOGICAL OPERATIONS\")\n",
        "print(\"--------------------\")\n",
        "print(color.GREEN, \"x =\", color.END, x)\n",
        "print(color.GREEN, \"x<10 and x>1 =\", color.END,x<10 and x>1) #False\n",
        "print(color.GREEN, \"x<10 or x>5 =\", color.END,x<10 or x>5) #True\n",
        "print(color.GREEN, \"not(x<10 and x>5) =\", color.END, not(x<10 and x>5)) #True"
      ],
      "execution_count": null,
      "outputs": [
        {
          "output_type": "stream",
          "text": [
            "---------------------\n",
            "LOGICAL OPERATIONS\n",
            "--------------------\n",
            "\u001b[92m x = \u001b[0m 2\n",
            "\u001b[92m x<10 and x>1 = \u001b[0m True\n",
            "\u001b[92m x<10 or x>5 = \u001b[0m True\n",
            "\u001b[92m not(x<10 and x>5) = \u001b[0m True\n"
          ],
          "name": "stdout"
        }
      ]
    },
    {
      "cell_type": "markdown",
      "metadata": {
        "id": "KQ89tm204tU6"
      },
      "source": [
        "\n",
        "- Relational Operations (==, !=, >, <, >=, <=)  \n",
        "\n",
        "**Symbol** |  **Task**  \n",
        "------- |---------------------------\n",
        "$==$     |        Equivalence\n",
        "$!=$     |      Not Equivalence\n",
        "$<$      |        Lesser than\n",
        "$>$       |      Greater than\n",
        "$<=$      |Lesser than or equals to\n",
        "$>=$      |Greater than or equals to\n"
      ]
    },
    {
      "cell_type": "code",
      "metadata": {
        "id": "08YGmfaN4t5m",
        "colab": {
          "base_uri": "https://localhost:8080/"
        },
        "outputId": "8239797a-12f3-4b89-e149-09ac60c933c7"
      },
      "source": [
        "print(\"---------------------\")\n",
        "print(\"RELATIONAL OPERATIONS\")\n",
        "print(\"--------------------\")\n",
        "print(color.GREEN, \"x,y = \", color.END,x,y)\n",
        "print(color.GREEN, \"(x+y>0) = \", color.END, x+y>0) # prints True\n",
        "print(color.GREEN, \"(x==3) = \", color.END, x==3) #prints True\n",
        "print(color.GREEN, \"z =\", color.END,z)\n",
        "print(color.GREEN, \"isinstance(z, int))= \", color.END,isinstance(z, int)) # False"
      ],
      "execution_count": null,
      "outputs": [
        {
          "output_type": "stream",
          "text": [
            "---------------------\n",
            "RELATIONAL OPERATIONS\n",
            "--------------------\n",
            "\u001b[92m x,y =  \u001b[0m 2 4\n",
            "\u001b[92m (x+y>0) =  \u001b[0m True\n",
            "\u001b[92m (x==3) =  \u001b[0m False\n",
            "\u001b[92m z = \u001b[0m IIT Bombay\n",
            "\u001b[92m isinstance(z, int))=  \u001b[0m False\n"
          ],
          "name": "stdout"
        }
      ]
    },
    {
      "cell_type": "markdown",
      "metadata": {
        "id": "E9Dall9P42-W"
      },
      "source": [
        "- Bit-wise Operations (&, |, ~, ^)\n",
        "\n",
        "**Symbol**  |  **Task**\n",
        "------------| -------------\n",
        "    &    |  Logical AND\n",
        "    $\\mid$  |   Logical OR\n",
        "    $\\sim$  |   Logical NOT\n",
        "$\\wedge$    |Logical XOR\n",
        "    $<<$    |  Left Shift\n",
        "    $>>$    |  Right Shift\n"
      ]
    },
    {
      "cell_type": "code",
      "metadata": {
        "id": "OYWmzxy743Vy",
        "colab": {
          "base_uri": "https://localhost:8080/"
        },
        "outputId": "2768e139-8627-471f-a02d-fcc64c69be7c"
      },
      "source": [
        "print(\"---------------------\")\n",
        "print(\"BITWISE OPERATIONS\")\n",
        "print(\"--------------------\")\n",
        "a = 2 #10\n",
        "b = 3 #11\n",
        "print(color.RED,\"a = \",a,\" and b = \", b,color.END, sep=\"\")\n",
        "print(color.RED,\"(a & b): \",color.END,a & b,sep=\"\") #prints 2\n",
        "# bin() to convert to binary\n",
        "print(color.RED,\"bin(a & b): \",color.END, bin(a&b), sep=\"\") #prints 0b10\n",
        "\n",
        "# Right shift operator\n",
        "print(color.RED,\"5>>1: \",color.END, 5>>1,sep=\"\")\n",
        "# 5 -> 0000 0101 (assuming 8-bits for an integer)\n",
        "# Right Shifting binary 5 by\n",
        "# 1 place produce 0000 0010\n",
        "# which is 2\n",
        "\n",
        "print(color.RED,\"17>>1: \",color.END,17>>1,sep=\"\")\n",
        "\n",
        "print(color.RED,\"5<<1: \",color.END,5<<1,sep=\"\")\n",
        "# 5 -> 0000 0101\n",
        "# Left Shifting binary 5 by\n",
        "# 1 place produce 0000 1010\n",
        "# which is 10\n",
        "print(color.RED,\"17<<1: \",color.END,17<<1,sep=\"\")"
      ],
      "execution_count": null,
      "outputs": [
        {
          "output_type": "stream",
          "text": [
            "---------------------\n",
            "BITWISE OPERATIONS\n",
            "--------------------\n",
            "\u001b[91ma = 2 and b = 3\u001b[0m\n",
            "\u001b[91m(a & b): \u001b[0m2\n",
            "\u001b[91mbin(a & b): \u001b[0m0b10\n",
            "\u001b[91m5>>1: \u001b[0m2\n",
            "\u001b[91m17>>1: \u001b[0m8\n",
            "\u001b[91m5<<1: \u001b[0m10\n",
            "\u001b[91m17<<1: \u001b[0m34\n"
          ],
          "name": "stdout"
        }
      ]
    },
    {
      "cell_type": "markdown",
      "metadata": {
        "id": "NAqiIsBqsTPx"
      },
      "source": [
        "# Python Data-Structures\n",
        "---\n",
        "Other than the conventional data-types of python, it also provides many nifty data-structures that comes in very handy.  \n",
        "The data-structures that we are talking about are as follows:  \n",
        "- **List**\n",
        "- **Tuples**\n",
        "- **Sets**\n",
        "- **Dictionaries**"
      ]
    },
    {
      "cell_type": "markdown",
      "metadata": {
        "id": "gr1dTjuRsTPx"
      },
      "source": [
        "## Python Lists\n",
        "---\n",
        "- Python lists can be thought of as simple linked-lists that one may have covered in basic data-structures courses, but is a bit more optimized for performance and made easy for us.  \n",
        "- Python lists can contain any type of data that we want, and can contain mixed types as well\n",
        "- Python Lists are basically used for storing sequences\n",
        "- **Lists are mutable**\n",
        "- They are 0-indexed.\n",
        "- It offers several options or features to  manipulate and access these sequences.  \n",
        "    - `copy()` : to create a shallow copy of the list\n",
        "    - `append()` : to add an element to the end of a list\n",
        "    - `extend()` : to extend the contents of a list\n",
        "    - `index()` : to find the index of an item in a list\n",
        "    - `pop()` : to pop the item at a given index of a list\n",
        "    - `insert()` : to insert an element at a given index in a list\n",
        "    - `count()` : to get the number of times an element occurs in a list\n",
        "    - `remove()` : the remove an element from the list\n",
        "    - `sort()` : to sort the list elements\n",
        "    - `reverse()` : to reverse the list elements\n",
        "    - `clear()` : to delete the list contents\n",
        "\n",
        "Let's look at these options one by one."
      ]
    },
    {
      "cell_type": "code",
      "metadata": {
        "colab": {
          "base_uri": "https://localhost:8080/"
        },
        "id": "JkSrrKVDHWdK",
        "outputId": "3d96f634-035b-4a36-97bf-97a8711f89e4"
      },
      "source": [
        "print(*range(1,10, 3))"
      ],
      "execution_count": null,
      "outputs": [
        {
          "output_type": "stream",
          "text": [
            "1 4 7\n"
          ],
          "name": "stdout"
        }
      ]
    },
    {
      "cell_type": "code",
      "metadata": {
        "id": "hp5hveJ2sTPx",
        "colab": {
          "base_uri": "https://localhost:8080/"
        },
        "outputId": "6bb3523a-89b1-4b6e-f3eb-688f86f2a30a"
      },
      "source": [
        "# Create a dummy list of numbers from 0 to 20\n",
        "dummy_list = list(range(0,21))\n",
        "print(color.BLUE,\"dummy_list:\\n\", color.END, dummy_list,sep=\"\")\n",
        "print(\"-\"*20)\n",
        "\n",
        "# suppose we create another list of number from 50 to 70 and we want to append\n",
        "# these numbers to the end of the dummy_list\n",
        "# Create the new list.\n",
        "new_dummy_list = list(range(50,71,4))\n",
        "print(color.BLUE,\"new_dummy_list:\\n\", color.END, new_dummy_list,sep=\"\")\n",
        "\n",
        "# Add the dummy_list.\n",
        "# There are three or more possible ways we can do this.\n",
        "# I'll show two. But first let's look at this"
      ],
      "execution_count": null,
      "outputs": [
        {
          "output_type": "stream",
          "text": [
            "\u001b[94mdummy_list:\n",
            "\u001b[0m[0, 1, 2, 3, 4, 5, 6, 7, 8, 9, 10, 11, 12, 13, 14, 15, 16, 17, 18, 19, 20]\n",
            "--------------------\n",
            "\u001b[94mnew_dummy_list:\n",
            "\u001b[0m[50, 54, 58, 62, 66, 70]\n"
          ],
          "name": "stdout"
        }
      ]
    },
    {
      "cell_type": "markdown",
      "metadata": {
        "id": "emh9p_ZVswW7"
      },
      "source": [
        "### A Quick Look into list copy\n",
        "---\n",
        "Lists copies are very essential to understand, as it can prove to be fatal if done wrong."
      ]
    },
    {
      "cell_type": "code",
      "metadata": {
        "colab": {
          "base_uri": "https://localhost:8080/"
        },
        "id": "ey8iZcbFsu8L",
        "outputId": "f17c8063-f0a4-4bd2-a9b9-b548dd6d883d"
      },
      "source": [
        "dummy_list_copy = dummy_list.copy() # This makes a copy of dummy_list\n",
        "print(\"Check if both the lists have the same content.\")\n",
        "print(color.BLUE,\"dummy_list_copy == dummy_list:\", color.END, dummy_list_copy == dummy_list)\n",
        "print(\"Check if both are the same instances.\")\n",
        "print(color.BLUE,\"dummy_list_copy is dummy_list:\", color.END, dummy_list_copy is dummy_list)\n",
        "\n",
        "\n",
        "dummy_list_direct = dummy_list\n",
        "print(color.BLUE,\"dummy_list_direct is dummy_list:\", color.END,dummy_list_direct is dummy_list)\n",
        "\n",
        "## So any changes done to dummy_list_direct, gets reflected in dummy_list\n",
        "## but any changes to dummy_list_copy should not get refleced in dummy_list\n",
        "dummy_list_direct[3] = 3000\n",
        "print(color.BLUE,\"dummy_list_direct:\", color.END, dummy_list_direct)\n",
        "print(color.BLUE,\"dummy_list:\", color.END, dummy_list)\n",
        "\n",
        "dummy_list_copy[3]= 3\n",
        "print(color.BLUE,\"dummy_list_copy:\",color.END,dummy_list_copy)\n",
        "print(color.BLUE,\"dummy_list:\",color.END,dummy_list)"
      ],
      "execution_count": null,
      "outputs": [
        {
          "output_type": "stream",
          "text": [
            "Check if both the lists have the same content.\n",
            "\u001b[94m dummy_list_copy == dummy_list: \u001b[0m True\n",
            "Check if both are the same instances.\n",
            "\u001b[94m dummy_list_copy is dummy_list: \u001b[0m False\n",
            "\u001b[94m dummy_list_direct is dummy_list: \u001b[0m True\n",
            "\u001b[94m dummy_list_direct: \u001b[0m [0, 1, 2, 3000, 4, 5, 6, 7, 8, 9, 10, 11, 12, 13, 14, 15, 16, 17, 18, 19, 20]\n",
            "\u001b[94m dummy_list: \u001b[0m [0, 1, 2, 3000, 4, 5, 6, 7, 8, 9, 10, 11, 12, 13, 14, 15, 16, 17, 18, 19, 20]\n",
            "\u001b[94m dummy_list_copy: \u001b[0m [0, 1, 2, 3, 4, 5, 6, 7, 8, 9, 10, 11, 12, 13, 14, 15, 16, 17, 18, 19, 20]\n",
            "\u001b[94m dummy_list: \u001b[0m [0, 1, 2, 3000, 4, 5, 6, 7, 8, 9, 10, 11, 12, 13, 14, 15, 16, 17, 18, 19, 20]\n"
          ],
          "name": "stdout"
        }
      ]
    },
    {
      "cell_type": "markdown",
      "metadata": {
        "id": "sFQCDy-jxhCI"
      },
      "source": [
        "## Adding new values a list\n",
        "---\n",
        "### Three ways\n",
        "---\n",
        "- Step 1: Using `append()`, useful when appending elements\n",
        "- Step 2: Using `extend()`, useful when appending other lists\n",
        "- Step 3: Using list addition, useful when appending other lists\n",
        "\n",
        "\n",
        "- Here we informally look in to `for in` loop of python. More like a customized way of using for loops.  \n",
        "- Mostly, in other languages like `C` or `Java`, while implementing `for` loops, we have to do somthing like :  \n",
        "<div class=\"alert alert-block alert-info\">\n",
        "    <pre>for(int i=0; i<10; i++)</pre>\n",
        "</div>\n",
        "for creating a for loop.  \n",
        "- But in python the `for` (`for ... in`) loops work in a simpler manner.\n",
        "- It can access the elements of an iterator directly and assign them to a variable, that can be used inside the loop."
      ]
    },
    {
      "cell_type": "code",
      "metadata": {
        "colab": {
          "base_uri": "https://localhost:8080/"
        },
        "id": "1nDEES6HulW7",
        "outputId": "c4ad282b-6837-45d1-9da7-6498002adb0f"
      },
      "source": [
        "# Now lets go back to our case of adding the new_dummy_list values to dummy_list\n",
        "# Redefining dummy_list here as it got altered\n",
        "dummy_list = list(range(0,21))\n",
        "print(color.BLUE,\"dummy_list:\\n\",color.END,dummy_list)\n",
        "\n",
        "# Step1:\n",
        "# This takes each element of new_dummy_list and appends to the end of dummy_list\n",
        "for dummy in new_dummy_list:\n",
        "    dummy_list.append(dummy)\n",
        "print(color.BLUE,\"Using Step1, dummy_list:\\n\",color.END, dummy_list)\n",
        "\n",
        "# Step2: Using the `extend` option of lists\n",
        "# Redefining dummy_list here as it got altered\n",
        "dummy_list = list(range(0,21))\n",
        "dummy_list.extend(new_dummy_list)\n",
        "print(color.BLUE,\"Using Step2, dummy_list:\\n\",color.END,dummy_list)\n",
        "\n",
        "# Step3: Using just addition of lists\n",
        "# Redefining dummy_list here as it got altered\n",
        "dummy_list = list(range(0,21))\n",
        "dummy_list += new_dummy_list\n",
        "print(color.BLUE,\"Using Step3, dummy_list:\\n\",color.END,dummy_list)"
      ],
      "execution_count": null,
      "outputs": [
        {
          "output_type": "stream",
          "text": [
            "\u001b[94m dummy_list:\n",
            " \u001b[0m [0, 1, 2, 3, 4, 5, 6, 7, 8, 9, 10, 11, 12, 13, 14, 15, 16, 17, 18, 19, 20]\n",
            "\u001b[94m Using Step1, dummy_list:\n",
            " \u001b[0m [0, 1, 2, 3, 4, 5, 6, 7, 8, 9, 10, 11, 12, 13, 14, 15, 16, 17, 18, 19, 20, 50, 54, 58, 62, 66, 70]\n",
            "\u001b[94m Using Step2, dummy_list:\n",
            " \u001b[0m [0, 1, 2, 3, 4, 5, 6, 7, 8, 9, 10, 11, 12, 13, 14, 15, 16, 17, 18, 19, 20, 50, 54, 58, 62, 66, 70]\n",
            "\u001b[94m Using Step3, dummy_list:\n",
            " \u001b[0m [0, 1, 2, 3, 4, 5, 6, 7, 8, 9, 10, 11, 12, 13, 14, 15, 16, 17, 18, 19, 20, 50, 54, 58, 62, 66, 70]\n"
          ],
          "name": "stdout"
        }
      ]
    },
    {
      "cell_type": "markdown",
      "metadata": {
        "id": "SK2egAWEyBvC"
      },
      "source": [
        "### Inserting elements at a given position in a list using `insert()`\n",
        "----\n",
        "`list.insert(index, element)` :   \n",
        "- Insert an element at a given index.  \n",
        "- The first argument is `index`, the position at which to insert.\n",
        "- The second argument is `element`, the element to insert at position `index`."
      ]
    },
    {
      "cell_type": "code",
      "metadata": {
        "colab": {
          "base_uri": "https://localhost:8080/"
        },
        "id": "6qIVgNqsulI8",
        "outputId": "5ba53016-20a3-49ca-bd55-2661e849b531"
      },
      "source": [
        "# Suppose we want to insert an element at position lets say, at index 9 of dummy_list\n",
        "# It does not replace the element at the posn but inserts another one and shifts the rest\n",
        "# So length of the list increases.\n",
        "dummy_list = list(range(0,21))\n",
        "# len(list) can be used to get the length of a list\n",
        "print(color.BLUE,\"Before insert, dummy_list:\\n\",color.END,dummy_list,\"\\nLength:\", len(dummy_list),sep=\"\")\n",
        "dummy_list.insert(9, 25)\n",
        "print(color.BLUE,\"After insert, dummy_list:\\n\",color.END,dummy_list,\"\\nLength:\", len(dummy_list),sep=\"\")\n"
      ],
      "execution_count": null,
      "outputs": [
        {
          "output_type": "stream",
          "text": [
            "\u001b[94mBefore insert, dummy_list:\n",
            "\u001b[0m[0, 1, 2, 3, 4, 5, 6, 7, 8, 9, 10, 11, 12, 13, 14, 15, 16, 17, 18, 19, 20]\n",
            "Length:21\n",
            "\u001b[94mAfter insert, dummy_list:\n",
            "\u001b[0m[0, 1, 2, 3, 4, 5, 6, 7, 8, 25, 9, 10, 11, 12, 13, 14, 15, 16, 17, 18, 19, 20]\n",
            "Length:22\n"
          ],
          "name": "stdout"
        }
      ]
    },
    {
      "cell_type": "markdown",
      "metadata": {
        "id": "zbCu-ywgz_0F"
      },
      "source": [
        "### `list.count(element)` to count number of occurences of the element in the list"
      ]
    },
    {
      "cell_type": "code",
      "metadata": {
        "colab": {
          "base_uri": "https://localhost:8080/"
        },
        "id": "8g1qovK4ulF8",
        "outputId": "c76bf5d2-bfa9-4c2c-a583-3385c6a05637"
      },
      "source": [
        "# Suppose we want to count the number of occurences of an element in the list\n",
        "# Before the count lets actually create a new dummy_list that contains overlapping occurences\n",
        "dummy_list += list(range(10, 31))\n",
        "print(color.RED,\"Number of occurences of 25 in dummy_list:\", color.END, dummy_list.count(25))\n",
        "print(color.RED,\"Number of occurences of 5 in dummy_list:\", color.END, dummy_list.count(5))"
      ],
      "execution_count": null,
      "outputs": [
        {
          "output_type": "stream",
          "text": [
            "\u001b[91m Number of occurences of 25 in dummy_list: \u001b[0m 2\n",
            "\u001b[91m Number of occurences of 5 in dummy_list: \u001b[0m 1\n"
          ],
          "name": "stdout"
        }
      ]
    },
    {
      "cell_type": "markdown",
      "metadata": {
        "id": "gdDGr5kasTPy"
      },
      "source": [
        "### Finding the indices of double occurence of the value 25\n",
        "----\n"
      ]
    },
    {
      "cell_type": "code",
      "metadata": {
        "colab": {
          "base_uri": "https://localhost:8080/"
        },
        "id": "jAIauxHcKCFD",
        "outputId": "8b59c531-f9fb-4f78-aa87-efe525e7a663"
      },
      "source": [
        "dummy_list.index(25, 10)"
      ],
      "execution_count": null,
      "outputs": [
        {
          "output_type": "execute_result",
          "data": {
            "text/plain": [
              "37"
            ]
          },
          "metadata": {
            "tags": []
          },
          "execution_count": 77
        }
      ]
    },
    {
      "cell_type": "code",
      "metadata": {
        "colab": {
          "base_uri": "https://localhost:8080/"
        },
        "id": "QZWIdsEeMhTn",
        "outputId": "d18ba8eb-834e-4624-b1b5-bf35acf85cd3"
      },
      "source": [
        "list_ = [1, 3.0, \"IITB\", 2+3j]\n",
        "print(list_)"
      ],
      "execution_count": null,
      "outputs": [
        {
          "output_type": "stream",
          "text": [
            "[1, 3.0, 'IITB', (2+3j)]\n"
          ],
          "name": "stdout"
        }
      ]
    },
    {
      "cell_type": "code",
      "metadata": {
        "colab": {
          "base_uri": "https://localhost:8080/"
        },
        "id": "7WmJTc4EKYmd",
        "outputId": "c5321177-d9f0-41f7-d1af-3f7c1beec169"
      },
      "source": [
        "dummy_list[-1]"
      ],
      "execution_count": null,
      "outputs": [
        {
          "output_type": "execute_result",
          "data": {
            "text/plain": [
              "30"
            ]
          },
          "metadata": {
            "tags": []
          },
          "execution_count": 81
        }
      ]
    },
    {
      "cell_type": "code",
      "metadata": {
        "colab": {
          "base_uri": "https://localhost:8080/"
        },
        "id": "2pjDVLnmMIti",
        "outputId": "4fd33ef1-8dcc-4dba-8b05-0e75ffe9c93d"
      },
      "source": [
        "var=[1,2,4]\n",
        "var.append(6)\n",
        "new_var = [5,6,7]\n",
        "var.extend(new_var)\n",
        "var = var + new_var\n",
        "print(var)"
      ],
      "execution_count": null,
      "outputs": [
        {
          "output_type": "stream",
          "text": [
            "[1, 2, 4, 6, 5, 6, 7, 5, 6, 7]\n"
          ],
          "name": "stdout"
        }
      ]
    },
    {
      "cell_type": "code",
      "metadata": {
        "colab": {
          "base_uri": "https://localhost:8080/"
        },
        "id": "RJ3YPRq_MxSi",
        "outputId": "9cd72508-de6e-4bcb-e68f-fef276130b7b"
      },
      "source": [
        "mid = len(var)//2\n",
        "var.pop(mid)\n",
        "print(var)"
      ],
      "execution_count": null,
      "outputs": [
        {
          "output_type": "stream",
          "text": [
            "[1, 2, 4, 6, 5, 7, 5, 6, 7]\n"
          ],
          "name": "stdout"
        }
      ]
    },
    {
      "cell_type": "code",
      "metadata": {
        "id": "mbn_aFX-sTPy",
        "colab": {
          "base_uri": "https://localhost:8080/"
        },
        "outputId": "438d9550-5560-40d6-cb31-110157c7d11d"
      },
      "source": [
        "index = list()\n",
        "for i in range(dummy_list.count(25)):\n",
        "    if len(index)==0:\n",
        "        index.append(dummy_list.index(25, 0))\n",
        "    else:\n",
        "        index.append(dummy_list.index(25, index[-1]+1))\n",
        "print(index)"
      ],
      "execution_count": null,
      "outputs": [
        {
          "output_type": "stream",
          "text": [
            "[9, 37]\n"
          ],
          "name": "stdout"
        }
      ]
    },
    {
      "cell_type": "markdown",
      "metadata": {
        "id": "JWPtsTj13_Hp"
      },
      "source": [
        "### Using Lists as Stacks\n",
        "---\n",
        "- Stacks is a data-structures that follows the LIFO (last-in-first-out) strategy, e.g. stack of copies in a table.\n",
        "- Python `list` can be used as a stack"
      ]
    },
    {
      "cell_type": "code",
      "metadata": {
        "colab": {
          "base_uri": "https://localhost:8080/"
        },
        "id": "ixCS-Xwf2cIv",
        "outputId": "2a8d1a79-8929-40ee-c4ec-57eb328b5955"
      },
      "source": [
        "stack = [1,2,3]\n",
        "print(\"Initial Stack:\",stack)\n",
        "stack.extend([10,20,130])\n",
        "print(\"Stack after adding elements:\", stack)\n",
        "ele = stack.pop()\n",
        "print(\"Popped element:\", ele)\n",
        "print(\"Stack after popping out the last element:\", stack)"
      ],
      "execution_count": null,
      "outputs": [
        {
          "output_type": "stream",
          "text": [
            "Initial Stack: [1, 2, 3]\n",
            "Stack after adding elements: [1, 2, 3, 10, 20, 130]\n",
            "Popped element: 130\n",
            "Stack after popping out the last element: [1, 2, 3, 10, 20]\n"
          ],
          "name": "stdout"
        }
      ]
    },
    {
      "cell_type": "markdown",
      "metadata": {
        "id": "MLgfkMe4J0hK"
      },
      "source": [
        "### Using Lists as Queues\n",
        "---\n",
        "- Queues is a data-structures that follows the FIFO (first-in-first-out) strategy, e.g. a queue to buy a ticket.\n",
        "- Python `list` can be used as a queue"
      ]
    },
    {
      "cell_type": "code",
      "metadata": {
        "colab": {
          "base_uri": "https://localhost:8080/"
        },
        "id": "CXEO7bjO2cFy",
        "outputId": "a2bd7457-164d-4497-b124-bb013b3c0f12"
      },
      "source": [
        "queue = [1,2,3]\n",
        "print(\"Initial Queue:\",queue)\n",
        "new_ele = [10,20,130]\n",
        "for i in reversed(new_ele):\n",
        "    queue.insert(0,i)\n",
        "print(\"Queue after adding elements:\", queue)\n",
        "ele = queue.pop(0)\n",
        "print(\"Popped element:\", ele)\n",
        "print(\"Queue after popping out the last element:\", queue)"
      ],
      "execution_count": null,
      "outputs": [
        {
          "output_type": "stream",
          "text": [
            "Initial Queue: [1, 2, 3]\n",
            "Queue after adding elements: [10, 20, 130, 1, 2, 3]\n",
            "Popped element: 10\n",
            "Queue after popping out the last element: [20, 130, 1, 2, 3]\n"
          ],
          "name": "stdout"
        }
      ]
    },
    {
      "cell_type": "code",
      "metadata": {
        "colab": {
          "base_uri": "https://localhost:8080/"
        },
        "id": "Br5lptwjLsXQ",
        "outputId": "93cbeca7-2278-4bd0-e120-4c3bb99fcf75"
      },
      "source": [
        "var = [1,2,34, 50]\n",
        "print(*reversed(var))"
      ],
      "execution_count": null,
      "outputs": [
        {
          "output_type": "stream",
          "text": [
            "50 34 2 1\n"
          ],
          "name": "stdout"
        }
      ]
    },
    {
      "cell_type": "markdown",
      "metadata": {
        "id": "EbNOGYX6L5UF"
      },
      "source": [
        "### List Comprehensions\n",
        "---\n",
        "List comprehensions provide a concise way to create lists. Common applications are to make new lists where each element is the result of some operations applied to each member of another sequence or iterable, or to create a subsequence of those elements that satisfy a certain condition. [Source](https://docs.python.org/3/tutorial/datastructures.html#list-comprehensions)\n",
        "\n",
        "- Suppose we have a list (a sequence of numbers)\n",
        "- We want to calculate the square of each of these numbers to form another list.\n",
        "- There are two ways to do that:  \n",
        "    - First, the naive way of looping through the elements, and squaring each element in the list, and then appending the squared value to the other list\n",
        "    - Second, the one-liner precise way of using list comprehensions."
      ]
    },
    {
      "cell_type": "code",
      "metadata": {
        "colab": {
          "base_uri": "https://localhost:8080/"
        },
        "id": "Hj0VKCUu2cDT",
        "outputId": "caff4861-168d-4429-c538-23558eb26057"
      },
      "source": [
        "numbers = list(range(1,11)) # store numbers from 1 to 10\n",
        "# First Method\n",
        "squares = []\n",
        "for i in numbers:\n",
        "    squares.append(i**2)\n",
        "print(color.BLUE,\"Using Method 1: squares=\",color.END, squares)\n",
        "\n",
        "# Second Method\n",
        "squares = [i**2 for i in numbers]\n",
        "print(color.BLUE,\"Using Method 2: squares=\",color.END, squares)"
      ],
      "execution_count": null,
      "outputs": [
        {
          "output_type": "stream",
          "text": [
            "\u001b[94m Using Method 1: squares= \u001b[0m [1, 4, 9, 16, 25, 36, 49, 64, 81, 100]\n",
            "\u001b[94m Using Method 2: squares= \u001b[0m [1, 4, 9, 16, 25, 36, 49, 64, 81, 100]\n"
          ],
          "name": "stdout"
        }
      ]
    },
    {
      "cell_type": "code",
      "metadata": {
        "colab": {
          "base_uri": "https://localhost:8080/"
        },
        "id": "OKa8J3j-N0H0",
        "outputId": "809223fb-bee4-4827-8715-85f272760dfc"
      },
      "source": [
        "print(*squares, sep=\" || \")"
      ],
      "execution_count": null,
      "outputs": [
        {
          "output_type": "stream",
          "text": [
            "1 || 4 || 9 || 16 || 25 || 36 || 49 || 64 || 81 || 100\n"
          ],
          "name": "stdout"
        }
      ]
    },
    {
      "cell_type": "markdown",
      "metadata": {
        "id": "-bzsLmGkZuyF"
      },
      "source": [
        "### Nested Lists\n",
        "----\n",
        "We can also create nested lists, i.e. lists inside a list."
      ]
    },
    {
      "cell_type": "code",
      "metadata": {
        "colab": {
          "base_uri": "https://localhost:8080/"
        },
        "id": "O9RmKmYdZueo",
        "outputId": "28f772a5-700e-4688-dec0-f903dc4ef3fd"
      },
      "source": [
        "nested_example = [[i for i in range(10)] for j in range(5)]\n",
        "print(color.BOLD,\"Nested List:\",color.END,*nested_example,sep=\"\\n\")\n",
        "\n",
        "# * (splat) operator is used to open the iterable(in this case a list) up,\n",
        "# i.e. unpack the values in a list\n",
        "# Let's see an example:\n",
        "print(color.BLUE,\"Range, without unpacking:\",color.END, range(4),sep=\"\")\n",
        "print(color.BLUE,\"Range, with splat unpacking:\",color.END,*range(4),sep=\"\")\n",
        "\n",
        "*x, = range(5)\n",
        "print(color.BLUE,\"Splat operator example:\\n\",color.END,\n",
        "      color.BLUE,\"*x, = range(5) gives x =\",color.END, x, sep=\"\")"
      ],
      "execution_count": null,
      "outputs": [
        {
          "output_type": "stream",
          "text": [
            "\u001b[1m\n",
            "Nested List:\n",
            "\u001b[0m\n",
            "[0, 1, 2, 3, 4, 5, 6, 7, 8, 9]\n",
            "[0, 1, 2, 3, 4, 5, 6, 7, 8, 9]\n",
            "[0, 1, 2, 3, 4, 5, 6, 7, 8, 9]\n",
            "[0, 1, 2, 3, 4, 5, 6, 7, 8, 9]\n",
            "[0, 1, 2, 3, 4, 5, 6, 7, 8, 9]\n",
            "\u001b[94mRange, without unpacking:\u001b[0mrange(0, 4)\n",
            "\u001b[94mRange, with splat unpacking:\u001b[0m0123\n",
            "\u001b[94mSplat operator example:\n",
            "\u001b[0m\u001b[94m*x, = range(5) gives x =\u001b[0m[0, 1, 2, 3, 4]\n"
          ],
          "name": "stdout"
        }
      ]
    },
    {
      "cell_type": "markdown",
      "metadata": {
        "id": "2iP3BlHJjRWC"
      },
      "source": [
        "### List Slicing\n",
        "----\n",
        "So far we have only seen numeric lists. Now, we'll see a list with mixed data-types."
      ]
    },
    {
      "cell_type": "code",
      "metadata": {
        "colab": {
          "base_uri": "https://localhost:8080/"
        },
        "id": "uY1EicI3OPq6",
        "outputId": "cb4d75e1-0336-48ad-c6aa-b327e330a437"
      },
      "source": [
        "print(1e10)\n",
        "print(type(1e10))"
      ],
      "execution_count": null,
      "outputs": [
        {
          "output_type": "stream",
          "text": [
            "10000000000.0\n",
            "<class 'float'>\n"
          ],
          "name": "stdout"
        }
      ]
    },
    {
      "cell_type": "code",
      "metadata": {
        "colab": {
          "base_uri": "https://localhost:8080/"
        },
        "id": "9N7aZLOcOkFr",
        "outputId": "c37736e4-fd9f-4fdd-f104-c1ea143ba389"
      },
      "source": [
        "print([1,2,3])\n",
        "print(repr(\"IITB\"))"
      ],
      "execution_count": null,
      "outputs": [
        {
          "output_type": "stream",
          "text": [
            "[1, 2, 3]\n",
            "'IITB'\n"
          ],
          "name": "stdout"
        }
      ]
    },
    {
      "cell_type": "code",
      "metadata": {
        "colab": {
          "base_uri": "https://localhost:8080/"
        },
        "id": "Rh_lFsIG2cAn",
        "outputId": "42b6e413-aa7e-4607-81e9-c93c8bad981c"
      },
      "source": [
        "mixed_list = [\"IITB\", 8.0, 2021, 1e5, \"A\"]\n",
        "print(\"Complete list: \", mixed_list)\n",
        "print(color.RED,\"Let's look at the individual types, looping thorugh the complete list.\",color.END, sep=\"\")\n",
        "for i,j in enumerate(mixed_list):\n",
        "    print(\"Index: {}, element: {}, type: {}\".format(i,repr(j),type(j)))\n",
        "print(\"-\"*20)\n",
        "print(\"Sliced list: \",mixed_list[:2])\n",
        "print(color.RED,\"Let's look at the individual types, looping through the first two elements only.\",color.END, sep=\"\")\n",
        "for i,j in enumerate(mixed_list[0:2]):\n",
        "    print(\"Index: {}, element: {}, type: {}\".format(i,repr(j),type(j)))\n",
        "print(\"-\"*20)\n",
        "\n",
        "print(\"Sliced list (evens only): \",mixed_list[ 0: 6: 3])\n",
        "print(\"Sliced list (odds only): \",mixed_list[ 1: : 2])"
      ],
      "execution_count": null,
      "outputs": [
        {
          "output_type": "stream",
          "text": [
            "Complete list:  ['IITB', 8.0, 2021, 100000.0, 'A']\n",
            "\u001b[91mLet's look at the individual types, looping thorugh the complete list.\u001b[0m\n",
            "Index: 0, element: 'IITB', type: <class 'str'>\n",
            "Index: 1, element: 8.0, type: <class 'float'>\n",
            "Index: 2, element: 2021, type: <class 'int'>\n",
            "Index: 3, element: 100000.0, type: <class 'float'>\n",
            "Index: 4, element: 'A', type: <class 'str'>\n",
            "--------------------\n",
            "Sliced list:  ['IITB', 8.0]\n",
            "\u001b[91mLet's look at the individual types, looping through the first two elements only.\u001b[0m\n",
            "Index: 0, element: 'IITB', type: <class 'str'>\n",
            "Index: 1, element: 8.0, type: <class 'float'>\n",
            "--------------------\n",
            "Sliced list (evens only):  ['IITB', 100000.0]\n",
            "Sliced list (odds only):  [8.0, 100000.0]\n"
          ],
          "name": "stdout"
        }
      ]
    },
    {
      "cell_type": "markdown",
      "metadata": {
        "id": "h90l5Gl9mWMS"
      },
      "source": [
        "## Fibonacci Sequences\n",
        "---\n",
        "- Lets now have a small code to demonstrate Fibonacci Squences.  \n",
        "- In mathematics, the Fibonacci numbers, commonly denoted Fn, form a sequence, called the Fibonacci sequence, such that each number is the sum of the two preceding ones, starting from 0 and 1. [Source](https://en.wikipedia.org/wiki/Fibonacci_number)\n",
        "\n",
        "> so, $F_0$ = 0, $F_1$ = 1  \n",
        "and $F_{n}$ = $F_{n-1}$ + $F_{n-2}$.  \n",
        "\n",
        "- The beginning of the sequence is thus:  \n",
        "0,1,1,2,3,5,8,13,21,34,55,89,144, $\\ldots$  \n",
        "- Lets look at the code for this and reveal some interesting facts.\n",
        "- **Trivia**  \n",
        "In mathematics, two quantities are in the golden ratio ($\\phi$) (something around ~1.61803398874) if their ratio is the same as the ratio of their sum to the larger of the two quantities. [Source](https://en.wikipedia.org/wiki/Golden_ratio)"
      ]
    },
    {
      "cell_type": "code",
      "metadata": {
        "colab": {
          "base_uri": "https://localhost:8080/"
        },
        "id": "b7pBFZEi2b-A",
        "outputId": "7c59f692-bfe5-4de3-b51c-bb1bf5781323"
      },
      "source": [
        "# let's define upto how many numbers do we want the sequence to be\n",
        "n=20\n",
        "# Initialize the list with values 0,1\n",
        "fib_seq = [0,1]\n",
        "# now we iterate and loop upto n and append values to the sequence\n",
        "for i in range(len(fib_seq),n):\n",
        "    fib_seq.append(fib_seq[-1]+fib_seq[-2])\n",
        "\n",
        "print(color.BLUE,\"Fibonacci Sequence upto {} numbers is:\\n\".format(n),color.END, fib_seq)\n",
        "\n",
        "# Now, let's look into an interesting fact\n",
        "# The ratio of consecutive numbers, especially starting from\n",
        "# index 2, actually converges to a number of mathematical\n",
        "# significance, the Golden Ratio\n",
        "fib_ratio = [fib_seq[i]/fib_seq[i-1] for i in range(len(fib_seq)) if i>2]\n",
        "print(color.BLUE,\"Ratios are:\\n\".format(n),color.END, fib_ratio)"
      ],
      "execution_count": null,
      "outputs": [
        {
          "output_type": "stream",
          "text": [
            "\u001b[94m Fibonacci Sequence upto 20 numbers is:\n",
            " \u001b[0m [0, 1, 1, 2, 3, 5, 8, 13, 21, 34, 55, 89, 144, 233, 377, 610, 987, 1597, 2584, 4181]\n",
            "\u001b[94m Ratios are:\n",
            " \u001b[0m [2.0, 1.5, 1.6666666666666667, 1.6, 1.625, 1.6153846153846154, 1.619047619047619, 1.6176470588235294, 1.6181818181818182, 1.6179775280898876, 1.6180555555555556, 1.6180257510729614, 1.6180371352785146, 1.618032786885246, 1.618034447821682, 1.6180338134001253, 1.618034055727554]\n"
          ],
          "name": "stdout"
        }
      ]
    },
    {
      "cell_type": "code",
      "metadata": {
        "colab": {
          "base_uri": "https://localhost:8080/"
        },
        "id": "KMbivMhoq1RV",
        "outputId": "012ebc55-e8e7-477a-e1d2-0c4c347bed6a"
      },
      "source": [
        "print(\"Min:\",min(fib_ratio))\n",
        "print(\"Max:\",max(fib_ratio))\n",
        "print(\"Mean of the fib_ratios= {:.3f}\".format(sum(fib_ratio)/len(fib_ratio)))"
      ],
      "execution_count": null,
      "outputs": [
        {
          "output_type": "stream",
          "text": [
            "Min: 1.5\n",
            "Max: 2.0\n",
            "Mean of the fib_ratios= 1.636\n"
          ],
          "name": "stdout"
        }
      ]
    },
    {
      "cell_type": "markdown",
      "metadata": {
        "id": "IZ91PSOiqccX"
      },
      "source": [
        "## Tuples\n",
        "----\n",
        "- Tuples is another Python data-structure for holding sequential heterogenous data.\n",
        "- It's difference with `list` type is that **`tuples` are immutable**.\n",
        "- We saw that `lists` are always defined using `[]` brackets. But `tuples` are defined using `()`.\n",
        "- A special problem is the construction of tuples containing 0 or 1 items: the syntax has some extra quirks to accommodate these.\n",
        "- Empty tuples are constructed by an empty pair of parentheses\n",
        "- A tuple with one item is constructed by following a value with a comma (it is not sufficient to enclose a single value in parentheses)."
      ]
    },
    {
      "cell_type": "code",
      "metadata": {
        "colab": {
          "base_uri": "https://localhost:8080/"
        },
        "id": "I1WXZzLp2b7P",
        "outputId": "aafbbd49-fcbc-4892-f36d-2687a49c8324"
      },
      "source": [
        "# way to initialize empty tuple\n",
        "empty_tuple = ()\n",
        "print(color.GREEN,\"type(empty_tuple): \",color.END,type(empty_tuple),sep=\"\")\n",
        "# way to initialize single element tuple\n",
        "# if comma is not provided turns into a generator object\n",
        "single_element_tuple = (1,)\n",
        "print(color.GREEN,\"type(single_element_tuple): \",color.END,type(single_element_tuple),\n",
        "      \" where single_element_tuple=(1,)\", sep=\"\")\n",
        "single_element_tuple = (1)\n",
        "print(color.GREEN,\"type(single_element_tuple): \",color.END,type(single_element_tuple),\n",
        "      \" where single_element_tuple=(1)\",sep=\"\")\n",
        "\n",
        "# this is a tuple\n",
        "example_tuple = (1,2,3,4,10,100,2,33,\"IITB\",\"A\",55.023)\n",
        "# this is also a tuple\n",
        "example_tuple2 = 1,2,3,4,10,100,2,33,\"IITB\",\"A\",55.023\n",
        "print(\"example_tuple: \",example_tuple)\n",
        "print(\"type of example_tuple2: \",type(example_tuple2))\n",
        "\n",
        "print(color.RED,\"index of 'IITB' in example_tuple\",color.END, example_tuple.index(\"IITB\"))\n",
        "print(color.RED,\"Number of occurences of 2 in example_tuple\",color.END, example_tuple.count(2))\n",
        "example_tuple += (35,20,\"Add\")\n",
        "print(color.RED,\"example_tuple after adding elements\",color.END,example_tuple)\n",
        "print(color.RED,\"example_tuple[10]:\",color.END, example_tuple[10])\n",
        "print(color.RED,\"#elements example_tuple\",color.END, len(example_tuple))\n",
        "print(color.RED,\"Tuple Slicing, example_tuple[2:6]\",color.END, example_tuple[2:6])"
      ],
      "execution_count": null,
      "outputs": [
        {
          "output_type": "stream",
          "text": [
            "\u001b[92mtype(empty_tuple): \u001b[0m<class 'tuple'>\n",
            "\u001b[92mtype(single_element_tuple): \u001b[0m<class 'tuple'> where single_element_tuple=(1,)\n",
            "\u001b[92mtype(single_element_tuple): \u001b[0m<class 'int'> where single_element_tuple=(1)\n",
            "example_tuple:  (1, 2, 3, 4, 10, 100, 2, 33, 'IITB', 'A', 55.023)\n",
            "type of example_tuple2:  <class 'tuple'>\n",
            "\u001b[91m index of 'IITB' in example_tuple \u001b[0m 8\n",
            "\u001b[91m Number of occurences of 2 in example_tuple \u001b[0m 2\n",
            "\u001b[91m example_tuple after adding elements \u001b[0m (1, 2, 3, 4, 10, 100, 2, 33, 'IITB', 'A', 55.023, 35, 20, 'Add')\n",
            "\u001b[91m example_tuple[10]: \u001b[0m 55.023\n",
            "\u001b[91m #elements example_tuple \u001b[0m 14\n",
            "\u001b[91m Tuple Slicing, example_tuple[2:6] \u001b[0m (3, 4, 10, 100)\n"
          ],
          "name": "stdout"
        }
      ]
    },
    {
      "cell_type": "code",
      "metadata": {
        "colab": {
          "base_uri": "https://localhost:8080/",
          "height": 169
        },
        "id": "R1sisGm3SBEl",
        "outputId": "ddda5d9a-4221-4ccb-8ebd-07ef23735c8d"
      },
      "source": [],
      "execution_count": null,
      "outputs": [
        {
          "output_type": "error",
          "ename": "TypeError",
          "evalue": "ignored",
          "traceback": [
            "\u001b[0;31m---------------------------------------------------------------------------\u001b[0m",
            "\u001b[0;31mTypeError\u001b[0m                                 Traceback (most recent call last)",
            "\u001b[0;32m<ipython-input-99-262c27b5b6db>\u001b[0m in \u001b[0;36m<module>\u001b[0;34m()\u001b[0m\n\u001b[0;32m----> 1\u001b[0;31m \u001b[0msum\u001b[0m\u001b[0;34m(\u001b[0m\u001b[0mexample_tuple\u001b[0m\u001b[0;34m)\u001b[0m\u001b[0;34m\u001b[0m\u001b[0;34m\u001b[0m\u001b[0m\n\u001b[0m",
            "\u001b[0;31mTypeError\u001b[0m: unsupported operand type(s) for +: 'int' and 'str'"
          ]
        }
      ]
    },
    {
      "cell_type": "markdown",
      "metadata": {
        "id": "AhaaadXRz-wc"
      },
      "source": [
        "## Python Sets\n",
        "---\n",
        "- This data-structure is unordered in contrast to `lists` and `tuples`.\n",
        "- As with sets in mathematics that only contain unique elements, python `sets` also contain no duplicate element.\n",
        "- Set objects support mathematical operations like `union`, `intersection`, `difference`, and `symmetric difference`.\n",
        "- Curly braces or the set() function can be used to create sets.\n",
        "- But, **empty set are initialized using `set()`**, because `{}` creates an empty `dictionary` another one of python's built-in data-structures.\n",
        "- Similar to list comprehensions that we saw a while ago, set also supports similar comprehensions\n",
        "- `set.add()` is used to add elements to the set as `append()` won't work for sets.\n",
        "\n",
        "> Set Operations:\n",
        ">>`key in s`         # containment check  \n",
        "`key not in s`   # non-containment check  \n",
        "`s1 == s2`       # s1 is equivalent to s2  \n",
        "`s1 != s2`       # s1 is not equivalent to s2  \n",
        "`s1 <= s2`    # s1is subset of s2   \n",
        "`s1 < s2` or `s1.issubset(s2)`     # s1 is proper subset of s2   \n",
        "`s1 >= s2`             # s1 is superset of s2  \n",
        "`s1 > s2` or `s1.issuperset(s2)`    # s1 is proper superset of s2  \n",
        "`s1 | s2` or `s1.union(s2)`       # the union of s1 and s2  \n",
        "`s1 & s2` or `s1.intersection(s2)`        # the intersection of s1 and s2   \n",
        "`s1 – s2` or `s1.difference(s2)`        # the set of elements in s1 but not s2   \n",
        "`s1 ˆ s2` or `s1.symmetric_difference(s2)`         # the set of elements in precisely none of s1 or s2  "
      ]
    },
    {
      "cell_type": "code",
      "metadata": {
        "colab": {
          "base_uri": "https://localhost:8080/"
        },
        "id": "p-tsEJXi1I5E",
        "outputId": "fc28c6c6-bcdf-4409-e58a-6178773437cf"
      },
      "source": [
        "empty_set = set()\n",
        "empty_set2 = {}\n",
        "print(color.BLUE,\"Type of `set()` is: \",color.END,type(empty_set),sep=\"\")\n",
        "print(color.BLUE,\"While type of `{}` is: \",color.END,type(empty_set2),sep=\"\")\n",
        "\n",
        "# Lets create a set of fruit in a basket\n",
        "basket = {'apple', 'orange', 'apple', 'pear', 'orange', 'banana'}\n",
        "print(color.BLUE,\"Basket contains: \",color.END, basket, sep=\"\")\n",
        "print(color.BLUE,\"Number of unique fruits in the basket: \",color.END, len(basket), sep=\"\")\n",
        "basket.add(\"watermelon\")\n",
        "print(color.BLUE,\"Now, Basket contains: \",color.END, basket, sep=\"\")"
      ],
      "execution_count": null,
      "outputs": [
        {
          "output_type": "stream",
          "text": [
            "\u001b[94mType of `set()` is: \u001b[0m<class 'set'>\n",
            "\u001b[94mWhile type of `{}` is: \u001b[0m<class 'dict'>\n",
            "\u001b[94mBasket contains: \u001b[0m{'orange', 'pear', 'apple', 'banana'}\n",
            "\u001b[94mNumber of unique fruits in the basket: \u001b[0m4\n",
            "\u001b[94mNow, Basket contains: \u001b[0m{'orange', 'pear', 'apple', 'banana', 'watermelon'}\n"
          ],
          "name": "stdout"
        }
      ]
    },
    {
      "cell_type": "code",
      "metadata": {
        "colab": {
          "base_uri": "https://localhost:8080/"
        },
        "id": "HpixqP2V3uxO",
        "outputId": "e07141a8-940a-4d69-b581-7c9b323c20e1"
      },
      "source": [
        "set1 = set(range(6))\n",
        "print(color.GREEN,\"set1: \",color.END,set1)\n",
        "set2 = set(range(3,10))\n",
        "print(color.GREEN,\"set2: \",color.END,set2)\n",
        "\n",
        "print(color.GREEN,\"set1.union(set2): \",color.END, set1.union(set2))\n",
        "print(color.GREEN,\"set1.intersection(set2): \",color.END, set1.intersection(set2))\n",
        "print(color.GREEN,\"set1.difference(set2): \", color.END, set1.difference(set2))\n",
        "print(color.GREEN,\"set1.symmetric_difference(set2): \",color.END,set1.symmetric_difference(set2))\n",
        "\n",
        "print(color.GREEN,\"set1.isdisjoint(set2): \",color.END, set1.isdisjoint(set2))\n",
        "print(color.GREEN,\"set1.isdisjoint({10,12,13}): \",color.END, set1.isdisjoint({10,12,13}))\n",
        "\n",
        "print(color.GREEN,\"Is set1 a superset of set2 (set1 > set2): \",color.END, set1>set2)"
      ],
      "execution_count": null,
      "outputs": [
        {
          "output_type": "stream",
          "text": [
            "\u001b[92m set1:  \u001b[0m {0, 1, 2, 3, 4, 5}\n",
            "\u001b[92m set2:  \u001b[0m {3, 4, 5, 6, 7, 8, 9}\n",
            "\u001b[92m set1.union(set2):  \u001b[0m {0, 1, 2, 3, 4, 5, 6, 7, 8, 9}\n",
            "\u001b[92m set1.intersection(set2):  \u001b[0m {3, 4, 5}\n",
            "\u001b[92m set1.difference(set2):  \u001b[0m {0, 1, 2}\n",
            "\u001b[92m set1.symmetric_difference(set2):  \u001b[0m {0, 1, 2, 6, 7, 8, 9}\n",
            "\u001b[92m set1.isdisjoint(set2):  \u001b[0m False\n",
            "\u001b[92m set1.isdisjoint({10,12,13}):  \u001b[0m True\n",
            "\u001b[92m Is set1 a superset of set2 (set1 > set2):  \u001b[0m False\n"
          ],
          "name": "stdout"
        }
      ]
    },
    {
      "cell_type": "code",
      "metadata": {
        "colab": {
          "base_uri": "https://localhost:8080/"
        },
        "id": "aHZ3sNSjTmrj",
        "outputId": "f75e66af-75a8-44c3-a6b6-9c76b43c1b95"
      },
      "source": [
        "{1,2,3,4,5}>{1,2,3}"
      ],
      "execution_count": null,
      "outputs": [
        {
          "output_type": "execute_result",
          "data": {
            "text/plain": [
              "True"
            ]
          },
          "metadata": {
            "tags": []
          },
          "execution_count": 100
        }
      ]
    },
    {
      "cell_type": "markdown",
      "metadata": {
        "id": "4xH32dLezzbG"
      },
      "source": [
        "## Python Dictionaries\n",
        "---\n",
        "- Dictionaries in python are another type of data-structures that work on the concept of **key-value pairs**, i.e. more like associative arrays.\n",
        "- Each key-value pair maps the key to its associated value.\n",
        "- Dictionaries are **mutable**\n",
        "- Can be nested.\n",
        "- Dictionaries are defined using `{}`, like `sets`. But unlike `sets`, dictionaries have to be defined in the form of `{\"key\": <value>}`.\n",
        "- Dictionaries in Python are maintained in an ordered fashion.\n",
        "> Dictionary Operations:  \n",
        ">> `dict.keys()` to obtain the keys of the dictionary.   \n",
        "`dict.values()` to obtain the values of the dictionary.  \n",
        "The `keys` cannot be something that is mutable, like lists, etc.  \n",
        "`dict.clear()` clears the dictionary  \n",
        "`dict.get(key)`  gets the values corresponding to key `key`  \n",
        "`dict.items()` returns a list of key-value pairs, with the first value of the pair being the key and the second being the value correponding to the key  \n",
        "`dict.pop(key)` removes the values corresponding to the key `key`  \n",
        "`dict.popitem()` pops the last key-value pair added to the dictionary and returns the popped item.\n",
        "`dict.update(<obj>)` merges the two dictionary objects  \n"
      ]
    },
    {
      "cell_type": "code",
      "metadata": {
        "colab": {
          "base_uri": "https://localhost:8080/"
        },
        "id": "66gR5ixX2b4T",
        "outputId": "7d4a398a-f994-4f6a-f8e8-0226eaa95d1a"
      },
      "source": [
        "empty_dict = {}\n",
        "print(color.BLUE,\"type({}): \",color.END, type(empty_dict), sep=\"\")\n",
        "\n",
        "# Here we create a dummy IPL team details dictionary\n",
        "# Data borrowed from iplt20.com\n",
        "ipl_dict = {\"IPL Teams\": [\"MI\",\"CSK\",\"KKR\",\"RCB\", \"RR\", \"KXIP\", \"SRH\", \"DD\"],\n",
        "                \"Captains\": [\"Rohit Sharma\", \"Mahendra Singh Dhoni\", \"Eoin Morgan\",\n",
        "                             \"Virat Kohli\", \"Sanju Samson\", \"KL Rahul\", \"David Warner\",\n",
        "                             \"Shreyas Iyer\"],\n",
        "                \"Coach\": [\"Mahela Jayawardene\", \"Stephen Fleming\", \"Brendon McCullum\",\n",
        "                          \"Simon Katich\", \"Andrew McDonald\", \"Anil Kumble\", \"Trevor Bayliss\",\n",
        "                          \"Ricky Ponting\"]}\n",
        "\n",
        "print(color.BOLD,\"The dictionary keys: \",color.END, ipl_dict.keys(), sep=\"\")\n",
        "print(color.BOLD,\"The dictionary values:\\n\",color.END, ipl_dict.values(), sep=\"\")\n",
        "\n",
        "# another way to obtain the key-value pairs, is by using dict.items()\n",
        "# dict.items() returns tuples, so we can do something like the following\n",
        "for key,value in ipl_dict.items():\n",
        "    print(color.BOLD,\"key: \",color.END, color.BLUE,key,color.END, color.BOLD, \" value: \",\n",
        "          color.END, color.BLUE,value,color.END, sep=\"\")"
      ],
      "execution_count": null,
      "outputs": [
        {
          "output_type": "stream",
          "text": [
            "\u001b[94mtype({}): \u001b[0m<class 'dict'>\n",
            "\u001b[1mThe dictionary keys: \u001b[0mdict_keys(['IPL Teams', 'Captains', 'Coach'])\n",
            "\u001b[1mThe dictionary values:\n",
            "\u001b[0mdict_values([['MI', 'CSK', 'KKR', 'RCB', 'RR', 'KXIP', 'SRH', 'DD'], ['Rohit Sharma', 'Mahendra Singh Dhoni', 'Eoin Morgan', 'Virat Kohli', 'Sanju Samson', 'KL Rahul', 'David Warner', 'Shreyas Iyer'], ['Mahela Jayawardene', 'Stephen Fleming', 'Brendon McCullum', 'Simon Katich', 'Andrew McDonald', 'Anil Kumble', 'Trevor Bayliss', 'Ricky Ponting']])\n",
            "\u001b[1mkey: \u001b[0m\u001b[94mIPL Teams\u001b[0m\u001b[1m value: \u001b[0m\u001b[94m['MI', 'CSK', 'KKR', 'RCB', 'RR', 'KXIP', 'SRH', 'DD']\u001b[0m\n",
            "\u001b[1mkey: \u001b[0m\u001b[94mCaptains\u001b[0m\u001b[1m value: \u001b[0m\u001b[94m['Rohit Sharma', 'Mahendra Singh Dhoni', 'Eoin Morgan', 'Virat Kohli', 'Sanju Samson', 'KL Rahul', 'David Warner', 'Shreyas Iyer']\u001b[0m\n",
            "\u001b[1mkey: \u001b[0m\u001b[94mCoach\u001b[0m\u001b[1m value: \u001b[0m\u001b[94m['Mahela Jayawardene', 'Stephen Fleming', 'Brendon McCullum', 'Simon Katich', 'Andrew McDonald', 'Anil Kumble', 'Trevor Bayliss', 'Ricky Ponting']\u001b[0m\n"
          ],
          "name": "stdout"
        }
      ]
    },
    {
      "cell_type": "code",
      "metadata": {
        "colab": {
          "base_uri": "https://localhost:8080/"
        },
        "id": "xELVQLpPIcIt",
        "outputId": "d9392d37-c5ab-4542-837b-c0cbdf2277a0"
      },
      "source": [
        "ipl_stadium_dict={\"stadiums\": [\"Wankhede Stadium\", \"M. A. Chidambaram Stadium\", \"Eden Gardens\",\n",
        "                               \"M. Chinnaswamy Stadium\", \"Sawai Mansingh Stadium\",\n",
        "                               \"IS Bindra Stadium\", \"Rajiv Gandhi Intl. Cricket Stadium\",\n",
        "                               \"Arun Jaitley Stadium\"]}\n",
        "\n",
        "ipl_dict.update(ipl_stadium_dict)\n",
        "for key,value in ipl_dict.items():\n",
        "    print(color.BOLD,\"key: \",color.END, color.BLUE,key,color.END, color.BOLD, \" value: \",\n",
        "          color.END, color.BLUE,value,color.END, sep=\"\")"
      ],
      "execution_count": null,
      "outputs": [
        {
          "output_type": "stream",
          "text": [
            "\u001b[1mkey: \u001b[0m\u001b[94mIPL Teams\u001b[0m\u001b[1m value: \u001b[0m\u001b[94m['MI', 'CSK', 'KKR', 'RCB', 'RR', 'KXIP', 'SRH', 'DD']\u001b[0m\n",
            "\u001b[1mkey: \u001b[0m\u001b[94mCaptains\u001b[0m\u001b[1m value: \u001b[0m\u001b[94m['Rohit Sharma', 'Mahendra Singh Dhoni', 'Eoin Morgan', 'Virat Kohli', 'Sanju Samson', 'KL Rahul', 'David Warner', 'Shreyas Iyer']\u001b[0m\n",
            "\u001b[1mkey: \u001b[0m\u001b[94mCoach\u001b[0m\u001b[1m value: \u001b[0m\u001b[94m['Mahela Jayawardene', 'Stephen Fleming', 'Brendon McCullum', 'Simon Katich', 'Andrew McDonald', 'Anil Kumble', 'Trevor Bayliss', 'Ricky Ponting']\u001b[0m\n",
            "\u001b[1mkey: \u001b[0m\u001b[94mstadiums\u001b[0m\u001b[1m value: \u001b[0m\u001b[94m['Wankhede Stadium', 'M. A. Chidambaram Stadium', 'Eden Gardens', 'M. Chinnaswamy Stadium', 'Sawai Mansingh Stadium', 'IS Bindra Stadium', 'Rajiv Gandhi Intl. Cricket Stadium', 'Arun Jaitley Stadium']\u001b[0m\n"
          ],
          "name": "stdout"
        }
      ]
    },
    {
      "cell_type": "code",
      "metadata": {
        "colab": {
          "base_uri": "https://localhost:8080/"
        },
        "id": "ybGyvxwOVN_c",
        "outputId": "46a9c4ab-926c-4692-f730-edd2a369aceb"
      },
      "source": [
        "dict_ = {**ipl_dict}\n",
        "print(dict_)"
      ],
      "execution_count": null,
      "outputs": [
        {
          "output_type": "stream",
          "text": [
            "{'IPL Teams': ['MI', 'CSK', 'KKR', 'RCB', 'RR', 'KXIP', 'SRH', 'DD'], 'Captains': ['Rohit Sharma', 'Mahendra Singh Dhoni', 'Eoin Morgan', 'Virat Kohli', 'Sanju Samson', 'KL Rahul', 'David Warner', 'Shreyas Iyer'], 'Coach': ['Mahela Jayawardene', 'Stephen Fleming', 'Brendon McCullum', 'Simon Katich', 'Andrew McDonald', 'Anil Kumble', 'Trevor Bayliss', 'Ricky Ponting'], 'stadiums': ['Wankhede Stadium', 'M. A. Chidambaram Stadium', 'Eden Gardens', 'M. Chinnaswamy Stadium', 'Sawai Mansingh Stadium', 'IS Bindra Stadium', 'Rajiv Gandhi Intl. Cricket Stadium', 'Arun Jaitley Stadium']}\n"
          ],
          "name": "stdout"
        }
      ]
    },
    {
      "cell_type": "code",
      "metadata": {
        "colab": {
          "base_uri": "https://localhost:8080/"
        },
        "id": "j4QFrP9PKLvd",
        "outputId": "97d1b2b2-b2a8-40f1-c496-74ad85d58e51"
      },
      "source": [
        "# Another one-liner way to merge-dictionaries is as follows\n",
        "dummy_dict={**ipl_dict, **ipl_stadium_dict}\n",
        "print(color.BOLD,\"The dictionary keys of dummy_dict are: \",color.END,dummy_dict.keys(), sep=\"\")\n",
        "k,v = dummy_dict.popitem()\n",
        "print(\"Popped item:\\nKey: \",k,\"\\nValue: \",v,sep=\"\")\n",
        "print(\"-\"*20)\n",
        "print()\n",
        "\n",
        "dummy_dict.pop(\"Coach\")\n",
        "print(color.BOLD,\"The dictionary keys after popping `Coach` are: \",color.END, dummy_dict.keys(), sep=\"\")\n",
        "print(\"-\"*20)\n",
        "print()\n",
        "print(color.BOLD,\"dummy_dict.get(`Captains`): \",color.END,dummy_dict.get(\"Captains\"), sep=\"\")"
      ],
      "execution_count": null,
      "outputs": [
        {
          "output_type": "stream",
          "text": [
            "\u001b[1mThe dictionary keys of dummy_dict are: \u001b[0mdict_keys(['IPL Teams', 'Captains', 'Coach', 'stadiums'])\n",
            "Popped item:\n",
            "Key: stadiums\n",
            "Value: ['Wankhede Stadium', 'M. A. Chidambaram Stadium', 'Eden Gardens', 'M. Chinnaswamy Stadium', 'Sawai Mansingh Stadium', 'IS Bindra Stadium', 'Rajiv Gandhi Intl. Cricket Stadium', 'Arun Jaitley Stadium']\n",
            "--------------------\n",
            "\n",
            "\u001b[1mThe dictionary keys after popping `Coach` are: \u001b[0mdict_keys(['IPL Teams', 'Captains'])\n",
            "--------------------\n",
            "\n",
            "\u001b[1mdummy_dict.get(`Captains`): \u001b[0m['Rohit Sharma', 'Mahendra Singh Dhoni', 'Eoin Morgan', 'Virat Kohli', 'Sanju Samson', 'KL Rahul', 'David Warner', 'Shreyas Iyer']\n"
          ],
          "name": "stdout"
        }
      ]
    },
    {
      "cell_type": "markdown",
      "metadata": {
        "id": "hVdJWzWmIc66"
      },
      "source": [
        "### Interesting thing to note about dictionaries\n",
        "---"
      ]
    },
    {
      "cell_type": "code",
      "metadata": {
        "colab": {
          "base_uri": "https://localhost:8080/",
          "height": 256
        },
        "id": "4z3mBLBhEA_z",
        "outputId": "62c5740d-1bbf-40c8-d3ee-c99329f8f4ce"
      },
      "source": [
        "dict_ = {(1,1): \"2\", (2,2): \"4\"}\n",
        "print(dict_)\n",
        "\n",
        "# dict_ = {[1,1]: \"2\", [2,2]: \"4\"}\n",
        "# print(dict_)\n",
        "\n",
        "try :\n",
        "    dict_ = {[1,1]: \"2\", [2,2]: \"4\"}\n",
        "    print(dict_)\n",
        "except Exception as e:\n",
        "    print(\"Error: {}\".format(e))"
      ],
      "execution_count": null,
      "outputs": [
        {
          "output_type": "stream",
          "text": [
            "{(1, 1): '2', (2, 2): '4'}\n"
          ],
          "name": "stdout"
        },
        {
          "output_type": "error",
          "ename": "TypeError",
          "evalue": "ignored",
          "traceback": [
            "\u001b[0;31m---------------------------------------------------------------------------\u001b[0m",
            "\u001b[0;31mTypeError\u001b[0m                                 Traceback (most recent call last)",
            "\u001b[0;32m<ipython-input-108-e538d1d994a8>\u001b[0m in \u001b[0;36m<module>\u001b[0;34m()\u001b[0m\n\u001b[1;32m      2\u001b[0m \u001b[0mprint\u001b[0m\u001b[0;34m(\u001b[0m\u001b[0mdict_\u001b[0m\u001b[0;34m)\u001b[0m\u001b[0;34m\u001b[0m\u001b[0;34m\u001b[0m\u001b[0m\n\u001b[1;32m      3\u001b[0m \u001b[0;34m\u001b[0m\u001b[0m\n\u001b[0;32m----> 4\u001b[0;31m \u001b[0mdict_\u001b[0m \u001b[0;34m=\u001b[0m \u001b[0;34m{\u001b[0m\u001b[0;34m[\u001b[0m\u001b[0;36m1\u001b[0m\u001b[0;34m,\u001b[0m\u001b[0;36m1\u001b[0m\u001b[0;34m]\u001b[0m\u001b[0;34m:\u001b[0m \u001b[0;34m\"2\"\u001b[0m\u001b[0;34m,\u001b[0m \u001b[0;34m[\u001b[0m\u001b[0;36m2\u001b[0m\u001b[0;34m,\u001b[0m\u001b[0;36m2\u001b[0m\u001b[0;34m]\u001b[0m\u001b[0;34m:\u001b[0m \u001b[0;34m\"4\"\u001b[0m\u001b[0;34m}\u001b[0m\u001b[0;34m\u001b[0m\u001b[0;34m\u001b[0m\u001b[0m\n\u001b[0m\u001b[1;32m      5\u001b[0m \u001b[0mprint\u001b[0m\u001b[0;34m(\u001b[0m\u001b[0mdict_\u001b[0m\u001b[0;34m)\u001b[0m\u001b[0;34m\u001b[0m\u001b[0;34m\u001b[0m\u001b[0m\n\u001b[1;32m      6\u001b[0m \u001b[0;34m\u001b[0m\u001b[0m\n",
            "\u001b[0;31mTypeError\u001b[0m: unhashable type: 'list'"
          ]
        }
      ]
    },
    {
      "cell_type": "markdown",
      "metadata": {
        "id": "Pv0MwZJrFQ-C"
      },
      "source": [
        "- Hashing is a way to convert one value into another of a fixed size, that can be used as a unique number.\n",
        "- In python, dictionary keys are stored as hash values internally.\n",
        "- So, the keys that are provided to a dictionary has to be hashable.\n",
        "- In python, there is a command called `hash()` that can be used to hash a value. Let's see some examples."
      ]
    },
    {
      "cell_type": "code",
      "metadata": {
        "colab": {
          "base_uri": "https://localhost:8080/"
        },
        "id": "5P-AbxAGFQBp",
        "outputId": "359c5d8f-402d-490c-f856-2fb17022da9f"
      },
      "source": [
        "print(color.RED,\"hash('Hello'): \",color.END,hash(\"Hello\"),sep=\"\")\n",
        "print(color.RED,\"hash(25): \",color.END,hash(25),sep=\"\")\n",
        "print(color.RED,\"hash((1,2,3,4)): \",color.END,hash((1,2,3,4)),sep=\"\")\n",
        "try:\n",
        "    print(color.RED,\"hash([1,2,3,4]): \",color.END,hash([1,2,3,4]),sep=\"\")\n",
        "except Exception as e:\n",
        "    print(color.RED,\"Error: \",color.END,e, sep=\"\")"
      ],
      "execution_count": null,
      "outputs": [
        {
          "output_type": "stream",
          "text": [
            "\u001b[91mhash('Hello'): \u001b[0m-2462362361584402639\n",
            "\u001b[91mhash(25): \u001b[0m25\n",
            "\u001b[91mhash((1,2,3,4)): \u001b[0m485696759010151909\n",
            "\u001b[91mError: \u001b[0munhashable type: 'list'\n"
          ],
          "name": "stdout"
        }
      ]
    },
    {
      "cell_type": "markdown",
      "metadata": {
        "id": "UaI5q56oD0lc"
      },
      "source": [
        "## Python Strings\n",
        "\n",
        "- Strings in python can be thought of as lists of characters.\n",
        "- We can access each element of the string separately, although we **cannot change the value at the index**.\n",
        "- Python provides a lot of functionalities for string processing, like:   \n",
        "    - `lower()`\n",
        "    - `upper()`\n",
        "    - `title()`\n",
        "    - `swapcase()`\n",
        "    - `capitalize()`\n",
        "    - `capwords()`\n",
        "    - `startswith()`\n",
        "    - `endswith()`\n",
        "    - `format()`\n",
        "    - `join()`\n",
        "    - `strip()`\n",
        "    - `split()`\n",
        "    - `index()`\n",
        "\n",
        "- Python also provides a built-in `string` module, that contains additional functionalitites for string processing.\n",
        "\n",
        "#### Let's look at some of these features"
      ]
    },
    {
      "cell_type": "code",
      "metadata": {
        "id": "qIsVJ9WP3Lvj",
        "colab": {
          "base_uri": "https://localhost:8080/"
        },
        "outputId": "570dd25b-0997-4010-dcfb-42a065ccae11"
      },
      "source": [
        "# Example dummy string, the famous Lorem Ipsum\n",
        "import string\n",
        "\n",
        "\n",
        "# gives all the punctuation characters\n",
        "punctuations = string.punctuation\n",
        "print(color.BOLD + \"Punctuation: \" + color.END + punctuations)\n",
        "print(\"-\"*20)\n",
        "\n",
        "# single character, also a string in python\n",
        "char_string = 'a'\n",
        "print(\"Type of char_string: {}\".format(type(char_string)))\n",
        "print(\"-\"*20)\n",
        "\n",
        "# word-string\n",
        "word_string=\"Hello\"\n",
        "print(\"Character at position {} of word_string is : '{}'\".format(3, word_string[3]))\n",
        "print(\"-\"*20)\n",
        "\n",
        "# single-line string\n",
        "single_line = \"Hello World.\"\n",
        "print(\"Single Line string: \",single_line)\n",
        "print(\"-\"*20)\n",
        "\n",
        "# Below is a multi-line string. each line ends with a \"\\n\" character\n",
        "lorem_ipsum_string=\"\"\"\n",
        "Lorem ipsum dolor sit amet, consectetur adipiscing elit.\n",
        "Duis laoreet tempor tempus.\n",
        "Nulla vel mi vel nibh congue interdum.\n",
        "Pellentesque elit nisl, vulputate quis erat eget, eleifend maximus lorem.\n",
        "Praesent placerat sem in ipsum ultrices, sed tincidunt quam consectetur.\n",
        "Donec vel nisi et lorem porta posuere vitae vitae justo.\n",
        "Pellentesque rhoncus scelerisque ex, facilisis consequat leo aliquam vel.\n",
        "Vestibulum facilisis, nibh sit amet luctus dapibus, tellus magna euismod nisi, in condimentum mi odio sed ligula.\n",
        "Aliquam purus est, imperdiet ac porttitor ac, eleifend in odio.\"\"\"\n",
        "\n",
        "# to get sentences first strip off extra spaces that might be present\n",
        "# at the beginning or end of the dummy text and then split with respect to\n",
        "# the character \"\\n\" which is the new-line character.\n",
        "sentences = lorem_ipsum_string.strip().split(\"\\n\")\n",
        "\n",
        "# and empty placeholder where the words are to be stored\n",
        "words = list()\n",
        "\n",
        "# Access each elements in the sentences list\n",
        "# and then split them according to spaces and other punctuations\n",
        "for sentence in sentences:\n",
        "    print(\"-\"*20)\n",
        "    print(color.RED,\"Sentence: \",color.END,sentence)\n",
        "    # see if the characters are present in the punctuations list\n",
        "    # if they are not present add them to the dummy list\n",
        "    # after passing throught the whole sentence, and removing all the\n",
        "    # punctuations, join them again to form the sentence.\n",
        "    dummy_sentence = [c for c in sentence if c not in punctuations]\n",
        "    print(color.BLUE,\"Character list without punctuations:\\n\", color.END,dummy_sentence)\n",
        "    sentence = \"\".join(dummy_sentence).strip().split(\" \")\n",
        "    for i in sentence:\n",
        "        words.append(i)"
      ],
      "execution_count": null,
      "outputs": [
        {
          "output_type": "stream",
          "text": [
            "\u001b[1mPunctuation: \u001b[0m!\"#$%&'()*+,-./:;<=>?@[\\]^_`{|}~\n",
            "--------------------\n",
            "Type of char_string: <class 'str'>\n",
            "--------------------\n",
            "Character at position 3 of word_string is : 'l'\n",
            "--------------------\n",
            "Single Line string:  Hello World.\n",
            "--------------------\n",
            "--------------------\n",
            "\u001b[91m Sentence:  \u001b[0m Lorem ipsum dolor sit amet, consectetur adipiscing elit. \n",
            "\u001b[94m Character list without punctuations:\n",
            " \u001b[0m ['L', 'o', 'r', 'e', 'm', ' ', 'i', 'p', 's', 'u', 'm', ' ', 'd', 'o', 'l', 'o', 'r', ' ', 's', 'i', 't', ' ', 'a', 'm', 'e', 't', ' ', 'c', 'o', 'n', 's', 'e', 'c', 't', 'e', 't', 'u', 'r', ' ', 'a', 'd', 'i', 'p', 'i', 's', 'c', 'i', 'n', 'g', ' ', 'e', 'l', 'i', 't', ' ']\n",
            "--------------------\n",
            "\u001b[91m Sentence:  \u001b[0m Duis laoreet tempor tempus. \n",
            "\u001b[94m Character list without punctuations:\n",
            " \u001b[0m ['D', 'u', 'i', 's', ' ', 'l', 'a', 'o', 'r', 'e', 'e', 't', ' ', 't', 'e', 'm', 'p', 'o', 'r', ' ', 't', 'e', 'm', 'p', 'u', 's', ' ']\n",
            "--------------------\n",
            "\u001b[91m Sentence:  \u001b[0m Nulla vel mi vel nibh congue interdum. \n",
            "\u001b[94m Character list without punctuations:\n",
            " \u001b[0m ['N', 'u', 'l', 'l', 'a', ' ', 'v', 'e', 'l', ' ', 'm', 'i', ' ', 'v', 'e', 'l', ' ', 'n', 'i', 'b', 'h', ' ', 'c', 'o', 'n', 'g', 'u', 'e', ' ', 'i', 'n', 't', 'e', 'r', 'd', 'u', 'm', ' ']\n",
            "--------------------\n",
            "\u001b[91m Sentence:  \u001b[0m Pellentesque elit nisl, vulputate quis erat eget, eleifend maximus lorem. \n",
            "\u001b[94m Character list without punctuations:\n",
            " \u001b[0m ['P', 'e', 'l', 'l', 'e', 'n', 't', 'e', 's', 'q', 'u', 'e', ' ', 'e', 'l', 'i', 't', ' ', 'n', 'i', 's', 'l', ' ', 'v', 'u', 'l', 'p', 'u', 't', 'a', 't', 'e', ' ', 'q', 'u', 'i', 's', ' ', 'e', 'r', 'a', 't', ' ', 'e', 'g', 'e', 't', ' ', 'e', 'l', 'e', 'i', 'f', 'e', 'n', 'd', ' ', 'm', 'a', 'x', 'i', 'm', 'u', 's', ' ', 'l', 'o', 'r', 'e', 'm', ' ']\n",
            "--------------------\n",
            "\u001b[91m Sentence:  \u001b[0m Praesent placerat sem in ipsum ultrices, sed tincidunt quam consectetur. \n",
            "\u001b[94m Character list without punctuations:\n",
            " \u001b[0m ['P', 'r', 'a', 'e', 's', 'e', 'n', 't', ' ', 'p', 'l', 'a', 'c', 'e', 'r', 'a', 't', ' ', 's', 'e', 'm', ' ', 'i', 'n', ' ', 'i', 'p', 's', 'u', 'm', ' ', 'u', 'l', 't', 'r', 'i', 'c', 'e', 's', ' ', 's', 'e', 'd', ' ', 't', 'i', 'n', 'c', 'i', 'd', 'u', 'n', 't', ' ', 'q', 'u', 'a', 'm', ' ', 'c', 'o', 'n', 's', 'e', 'c', 't', 'e', 't', 'u', 'r', ' ']\n",
            "--------------------\n",
            "\u001b[91m Sentence:  \u001b[0m Donec vel nisi et lorem porta posuere vitae vitae justo. \n",
            "\u001b[94m Character list without punctuations:\n",
            " \u001b[0m ['D', 'o', 'n', 'e', 'c', ' ', 'v', 'e', 'l', ' ', 'n', 'i', 's', 'i', ' ', 'e', 't', ' ', 'l', 'o', 'r', 'e', 'm', ' ', 'p', 'o', 'r', 't', 'a', ' ', 'p', 'o', 's', 'u', 'e', 'r', 'e', ' ', 'v', 'i', 't', 'a', 'e', ' ', 'v', 'i', 't', 'a', 'e', ' ', 'j', 'u', 's', 't', 'o', ' ']\n",
            "--------------------\n",
            "\u001b[91m Sentence:  \u001b[0m Pellentesque rhoncus scelerisque ex, facilisis consequat leo aliquam vel. \n",
            "\u001b[94m Character list without punctuations:\n",
            " \u001b[0m ['P', 'e', 'l', 'l', 'e', 'n', 't', 'e', 's', 'q', 'u', 'e', ' ', 'r', 'h', 'o', 'n', 'c', 'u', 's', ' ', 's', 'c', 'e', 'l', 'e', 'r', 'i', 's', 'q', 'u', 'e', ' ', 'e', 'x', ' ', 'f', 'a', 'c', 'i', 'l', 'i', 's', 'i', 's', ' ', 'c', 'o', 'n', 's', 'e', 'q', 'u', 'a', 't', ' ', 'l', 'e', 'o', ' ', 'a', 'l', 'i', 'q', 'u', 'a', 'm', ' ', 'v', 'e', 'l', ' ']\n",
            "--------------------\n",
            "\u001b[91m Sentence:  \u001b[0m Vestibulum facilisis, nibh sit amet luctus dapibus, tellus magna euismod nisi, in condimentum mi odio sed ligula. \n",
            "\u001b[94m Character list without punctuations:\n",
            " \u001b[0m ['V', 'e', 's', 't', 'i', 'b', 'u', 'l', 'u', 'm', ' ', 'f', 'a', 'c', 'i', 'l', 'i', 's', 'i', 's', ' ', 'n', 'i', 'b', 'h', ' ', 's', 'i', 't', ' ', 'a', 'm', 'e', 't', ' ', 'l', 'u', 'c', 't', 'u', 's', ' ', 'd', 'a', 'p', 'i', 'b', 'u', 's', ' ', 't', 'e', 'l', 'l', 'u', 's', ' ', 'm', 'a', 'g', 'n', 'a', ' ', 'e', 'u', 'i', 's', 'm', 'o', 'd', ' ', 'n', 'i', 's', 'i', ' ', 'i', 'n', ' ', 'c', 'o', 'n', 'd', 'i', 'm', 'e', 'n', 't', 'u', 'm', ' ', 'm', 'i', ' ', 'o', 'd', 'i', 'o', ' ', 's', 'e', 'd', ' ', 'l', 'i', 'g', 'u', 'l', 'a', ' ']\n",
            "--------------------\n",
            "\u001b[91m Sentence:  \u001b[0m Aliquam purus est, imperdiet ac porttitor ac, eleifend in odio.\n",
            "\u001b[94m Character list without punctuations:\n",
            " \u001b[0m ['A', 'l', 'i', 'q', 'u', 'a', 'm', ' ', 'p', 'u', 'r', 'u', 's', ' ', 'e', 's', 't', ' ', 'i', 'm', 'p', 'e', 'r', 'd', 'i', 'e', 't', ' ', 'a', 'c', ' ', 'p', 'o', 'r', 't', 't', 'i', 't', 'o', 'r', ' ', 'a', 'c', ' ', 'e', 'l', 'e', 'i', 'f', 'e', 'n', 'd', ' ', 'i', 'n', ' ', 'o', 'd', 'i', 'o']\n"
          ],
          "name": "stdout"
        }
      ]
    },
    {
      "cell_type": "code",
      "metadata": {
        "colab": {
          "base_uri": "https://localhost:8080/"
        },
        "id": "jaXxUSZksTPz",
        "outputId": "7bd2aab2-3e85-4b1f-c1d3-77ce516899cc"
      },
      "source": [
        "print(*sentences, sep=\"\\n\")"
      ],
      "execution_count": null,
      "outputs": [
        {
          "output_type": "stream",
          "text": [
            "Lorem ipsum dolor sit amet, consectetur adipiscing elit. \n",
            "Duis laoreet tempor tempus. \n",
            "Nulla vel mi vel nibh congue interdum. \n",
            "Pellentesque elit nisl, vulputate quis erat eget, eleifend maximus lorem. \n",
            "Praesent placerat sem in ipsum ultrices, sed tincidunt quam consectetur. \n",
            "Donec vel nisi et lorem porta posuere vitae vitae justo. \n",
            "Pellentesque rhoncus scelerisque ex, facilisis consequat leo aliquam vel. \n",
            "Vestibulum facilisis, nibh sit amet luctus dapibus, tellus magna euismod nisi, in condimentum mi odio sed ligula. \n",
            "Aliquam purus est, imperdiet ac porttitor ac, eleifend in odio.\n"
          ],
          "name": "stdout"
        }
      ]
    },
    {
      "cell_type": "code",
      "metadata": {
        "colab": {
          "base_uri": "https://localhost:8080/"
        },
        "id": "Bjehgg4GsTP0",
        "outputId": "d114a2ba-0203-4067-c07c-8c931fe766c6"
      },
      "source": [
        "print(words)"
      ],
      "execution_count": null,
      "outputs": [
        {
          "output_type": "stream",
          "text": [
            "['Lorem', 'ipsum', 'dolor', 'sit', 'amet', 'consectetur', 'adipiscing', 'elit', 'Duis', 'laoreet', 'tempor', 'tempus', 'Nulla', 'vel', 'mi', 'vel', 'nibh', 'congue', 'interdum', 'Pellentesque', 'elit', 'nisl', 'vulputate', 'quis', 'erat', 'eget', 'eleifend', 'maximus', 'lorem', 'Praesent', 'placerat', 'sem', 'in', 'ipsum', 'ultrices', 'sed', 'tincidunt', 'quam', 'consectetur', 'Donec', 'vel', 'nisi', 'et', 'lorem', 'porta', 'posuere', 'vitae', 'vitae', 'justo', 'Pellentesque', 'rhoncus', 'scelerisque', 'ex', 'facilisis', 'consequat', 'leo', 'aliquam', 'vel', 'Vestibulum', 'facilisis', 'nibh', 'sit', 'amet', 'luctus', 'dapibus', 'tellus', 'magna', 'euismod', 'nisi', 'in', 'condimentum', 'mi', 'odio', 'sed', 'ligula', 'Aliquam', 'purus', 'est', 'imperdiet', 'ac', 'porttitor', 'ac', 'eleifend', 'in', 'odio']\n"
          ],
          "name": "stdout"
        }
      ]
    },
    {
      "cell_type": "code",
      "metadata": {
        "colab": {
          "base_uri": "https://localhost:8080/"
        },
        "id": "axMrKEhUsTP0",
        "outputId": "9115dad1-09d0-423b-8329-da6ae3487bb0"
      },
      "source": [
        "print(\"-\"*20)\n",
        "print(color.BOLD,\"All words in lower case:\\n\",color.END,[i.lower() for i in words])\n",
        "print(\"-\"*20)\n",
        "print(\"All words in upper case:\\n\",[i.upper() for i in words])\n",
        "print(\"-\"*20)\n",
        "print(\"All words in title case:\\n\",[i.title() for i in words])\n",
        "print(\"-\"*20)\n",
        "print(\"All words in swapcase:\\n\",[i.swapcase() for i in words])\n",
        "print(\"-\"*20)\n",
        "print(\"All words in that startswith 'sc':\\n\",[i for i in words if i.startswith(\"sc\")])\n",
        "print(\"-\"*20)\n",
        "print(\"All words in that endswith 'am':\\n\",[i for i in words if i.endswith(\"am\")])\n",
        "print(\"-\"*20)"
      ],
      "execution_count": null,
      "outputs": [
        {
          "output_type": "stream",
          "text": [
            "--------------------\n",
            "\u001b[1m All words in lower case:\n",
            " \u001b[0m ['lorem', 'ipsum', 'dolor', 'sit', 'amet', 'consectetur', 'adipiscing', 'elit', 'duis', 'laoreet', 'tempor', 'tempus', 'nulla', 'vel', 'mi', 'vel', 'nibh', 'congue', 'interdum', 'pellentesque', 'elit', 'nisl', 'vulputate', 'quis', 'erat', 'eget', 'eleifend', 'maximus', 'lorem', 'praesent', 'placerat', 'sem', 'in', 'ipsum', 'ultrices', 'sed', 'tincidunt', 'quam', 'consectetur', 'donec', 'vel', 'nisi', 'et', 'lorem', 'porta', 'posuere', 'vitae', 'vitae', 'justo', 'pellentesque', 'rhoncus', 'scelerisque', 'ex', 'facilisis', 'consequat', 'leo', 'aliquam', 'vel', 'vestibulum', 'facilisis', 'nibh', 'sit', 'amet', 'luctus', 'dapibus', 'tellus', 'magna', 'euismod', 'nisi', 'in', 'condimentum', 'mi', 'odio', 'sed', 'ligula', 'aliquam', 'purus', 'est', 'imperdiet', 'ac', 'porttitor', 'ac', 'eleifend', 'in', 'odio']\n",
            "--------------------\n",
            "All words in upper case:\n",
            " ['LOREM', 'IPSUM', 'DOLOR', 'SIT', 'AMET', 'CONSECTETUR', 'ADIPISCING', 'ELIT', 'DUIS', 'LAOREET', 'TEMPOR', 'TEMPUS', 'NULLA', 'VEL', 'MI', 'VEL', 'NIBH', 'CONGUE', 'INTERDUM', 'PELLENTESQUE', 'ELIT', 'NISL', 'VULPUTATE', 'QUIS', 'ERAT', 'EGET', 'ELEIFEND', 'MAXIMUS', 'LOREM', 'PRAESENT', 'PLACERAT', 'SEM', 'IN', 'IPSUM', 'ULTRICES', 'SED', 'TINCIDUNT', 'QUAM', 'CONSECTETUR', 'DONEC', 'VEL', 'NISI', 'ET', 'LOREM', 'PORTA', 'POSUERE', 'VITAE', 'VITAE', 'JUSTO', 'PELLENTESQUE', 'RHONCUS', 'SCELERISQUE', 'EX', 'FACILISIS', 'CONSEQUAT', 'LEO', 'ALIQUAM', 'VEL', 'VESTIBULUM', 'FACILISIS', 'NIBH', 'SIT', 'AMET', 'LUCTUS', 'DAPIBUS', 'TELLUS', 'MAGNA', 'EUISMOD', 'NISI', 'IN', 'CONDIMENTUM', 'MI', 'ODIO', 'SED', 'LIGULA', 'ALIQUAM', 'PURUS', 'EST', 'IMPERDIET', 'AC', 'PORTTITOR', 'AC', 'ELEIFEND', 'IN', 'ODIO']\n",
            "--------------------\n",
            "All words in title case:\n",
            " ['Lorem', 'Ipsum', 'Dolor', 'Sit', 'Amet', 'Consectetur', 'Adipiscing', 'Elit', 'Duis', 'Laoreet', 'Tempor', 'Tempus', 'Nulla', 'Vel', 'Mi', 'Vel', 'Nibh', 'Congue', 'Interdum', 'Pellentesque', 'Elit', 'Nisl', 'Vulputate', 'Quis', 'Erat', 'Eget', 'Eleifend', 'Maximus', 'Lorem', 'Praesent', 'Placerat', 'Sem', 'In', 'Ipsum', 'Ultrices', 'Sed', 'Tincidunt', 'Quam', 'Consectetur', 'Donec', 'Vel', 'Nisi', 'Et', 'Lorem', 'Porta', 'Posuere', 'Vitae', 'Vitae', 'Justo', 'Pellentesque', 'Rhoncus', 'Scelerisque', 'Ex', 'Facilisis', 'Consequat', 'Leo', 'Aliquam', 'Vel', 'Vestibulum', 'Facilisis', 'Nibh', 'Sit', 'Amet', 'Luctus', 'Dapibus', 'Tellus', 'Magna', 'Euismod', 'Nisi', 'In', 'Condimentum', 'Mi', 'Odio', 'Sed', 'Ligula', 'Aliquam', 'Purus', 'Est', 'Imperdiet', 'Ac', 'Porttitor', 'Ac', 'Eleifend', 'In', 'Odio']\n",
            "--------------------\n",
            "All words in swapcase:\n",
            " ['lOREM', 'IPSUM', 'DOLOR', 'SIT', 'AMET', 'CONSECTETUR', 'ADIPISCING', 'ELIT', 'dUIS', 'LAOREET', 'TEMPOR', 'TEMPUS', 'nULLA', 'VEL', 'MI', 'VEL', 'NIBH', 'CONGUE', 'INTERDUM', 'pELLENTESQUE', 'ELIT', 'NISL', 'VULPUTATE', 'QUIS', 'ERAT', 'EGET', 'ELEIFEND', 'MAXIMUS', 'LOREM', 'pRAESENT', 'PLACERAT', 'SEM', 'IN', 'IPSUM', 'ULTRICES', 'SED', 'TINCIDUNT', 'QUAM', 'CONSECTETUR', 'dONEC', 'VEL', 'NISI', 'ET', 'LOREM', 'PORTA', 'POSUERE', 'VITAE', 'VITAE', 'JUSTO', 'pELLENTESQUE', 'RHONCUS', 'SCELERISQUE', 'EX', 'FACILISIS', 'CONSEQUAT', 'LEO', 'ALIQUAM', 'VEL', 'vESTIBULUM', 'FACILISIS', 'NIBH', 'SIT', 'AMET', 'LUCTUS', 'DAPIBUS', 'TELLUS', 'MAGNA', 'EUISMOD', 'NISI', 'IN', 'CONDIMENTUM', 'MI', 'ODIO', 'SED', 'LIGULA', 'aLIQUAM', 'PURUS', 'EST', 'IMPERDIET', 'AC', 'PORTTITOR', 'AC', 'ELEIFEND', 'IN', 'ODIO']\n",
            "--------------------\n",
            "All words in that startswith 'sc':\n",
            " ['scelerisque']\n",
            "--------------------\n",
            "All words in that endswith 'am':\n",
            " ['quam', 'aliquam', 'Aliquam']\n",
            "--------------------\n"
          ],
          "name": "stdout"
        }
      ]
    },
    {
      "cell_type": "markdown",
      "metadata": {
        "id": "UBVPdnnyMbsp"
      },
      "source": [
        "## Python Flow Control (if ... else)\n",
        "---\n",
        "- `if ... else` statements are used for flow control in python\n",
        "- `elif` is used for the else if cases\n",
        "- Python is a indented language, i.e. it does not use any `{}`. It only uses indentations and a colon `:`."
      ]
    },
    {
      "cell_type": "code",
      "metadata": {
        "colab": {
          "base_uri": "https://localhost:8080/"
        },
        "id": "aQIaRnDQLvVx",
        "outputId": "0593c116-0e73-43f9-d338-84ec2370ac27"
      },
      "source": [
        "# Let's look into a very simple for loop example\n",
        "days = [\"Monday\", \"Tuesday\", \"Wednesday\", \"Thursday\", \"Friday\", \"Saturday\", \"Sunday\"]\n",
        "for day in days:\n",
        "    if day==\"Sunday\":\n",
        "        print(\"It's\",day,\". Time to sleep again.\")\n",
        "    elif day==\"Saturday\":\n",
        "        print(\"Today is\",day,\". Do all the leftout work.\")\n",
        "    else:\n",
        "        print(\"Hey it's\",day,\". Time to work.\")"
      ],
      "execution_count": null,
      "outputs": [
        {
          "output_type": "stream",
          "text": [
            "Hey it's Monday . Time to work.\n",
            "Hey it's Tuesday . Time to work.\n",
            "Hey it's Wednesday . Time to work.\n",
            "Hey it's Thursday . Time to work.\n",
            "Hey it's Friday . Time to work.\n",
            "Today is Saturday . Do all the leftout work.\n",
            "It's Sunday . Time to sleep again.\n"
          ],
          "name": "stdout"
        }
      ]
    },
    {
      "cell_type": "markdown",
      "metadata": {
        "id": "aVxpHzAwREY-"
      },
      "source": [
        "## `while` loop in Python via Guessing game\n",
        "----\n",
        "- As in case of any other programming language, while loops are used when we are unaware of the number of iterations that should be run, but we know the condition when to stop.\n",
        "- Below is an example code to guess a number, using `while` loop\n",
        "\n"
      ]
    },
    {
      "cell_type": "code",
      "metadata": {
        "colab": {
          "base_uri": "https://localhost:8080/"
        },
        "id": "34ZS7HX6LvTK",
        "outputId": "707df1d2-3add-4824-d0f1-1005e6e2e5ea"
      },
      "source": [
        "number = 89\n",
        "guess = None\n",
        "while guess!=number:\n",
        "    guess = int(input(\"Enter a number: \"))\n",
        "    if guess==number:\n",
        "        print(\"Yes you guessed it right. It's {}\".format(guess))\n",
        "    else:\n",
        "        if guess<number:\n",
        "            print(\"No it's not {}. Try guessing a larger number.\".format(guess))\n",
        "        else:\n",
        "            print(\"No it's not {}. Try guessing a smaller number.\".format(guess))"
      ],
      "execution_count": null,
      "outputs": [
        {
          "output_type": "stream",
          "text": [
            "Enter a number: 89\n",
            "Yes you guessed it right. It's 89\n"
          ],
          "name": "stdout"
        }
      ]
    },
    {
      "cell_type": "markdown",
      "metadata": {
        "id": "n-ittE6CT6mZ"
      },
      "source": [
        "## Python Functions\n",
        "---\n",
        "- Functions are blocks of codes that can be reused to perform some action.\n",
        "- Can be used to modularize codes\n",
        "- Function BLock begins with the keyword `def` followed by the function name and parenthesis `()`.\n",
        "- Parameters or arguments to the function are to passed within these parenthesis\n",
        "- Docstrings can be used to describe the function.\n",
        "- Code inside the function block has to be indented\n",
        "- `return` is used to return the function output  \n",
        "- We were using a function to return the fibonacci sequence. Now, we can provide the number upto which we want the sequence and then call the function `fibonacci` to calculate.  \n",
        "- We'll also see a function to calculate factorial of a number. The recursive definition of factorial being:  \n",
        "$fac(n)$ = $n*fac(n-1)$  \n",
        "with $fac(1)$ = 1 and $n>=2$  \n",
        "- The arguments passed to the functions can be:  \n",
        "    - **Default arguments** : assign a default value to the argument. Need to make sure that `non-default argument follows default argument`.\n",
        "    - **Keyword arguments** : With keyword arguments in python, we can change the order of passing the arguments without any consequences.\n",
        "    - **Arbitrary Arguments** : This can be used, when the number to arguments to expect to a function are unknown.\n",
        "\n"
      ]
    },
    {
      "cell_type": "code",
      "metadata": {
        "colab": {
          "base_uri": "https://localhost:8080/"
        },
        "id": "6yDoNCFYT6SG",
        "outputId": "ee8d67ff-ce5d-485d-a973-4a1502bf12a9"
      },
      "source": [
        "# Example of default argument\n",
        "fib_seq = [0,1]\n",
        "fib_ratio = []\n",
        "def fibonacci(n=10):\n",
        "    if n<0:\n",
        "        return 0\n",
        "    elif n<len(fib_seq):\n",
        "        return fib_seq[n-1], fib_ratio[n-3]\n",
        "    else:\n",
        "        for i in range(len(fib_seq),n):\n",
        "            fib_seq.append(fib_seq[-1]+fib_seq[-2])\n",
        "            fib_ratio.append(fib_seq[-1]/fib_seq[-2])\n",
        "\n",
        "        return fib_seq[n-1], fib_ratio[n-3]\n",
        "\n",
        "\n",
        "print(fibonacci(5))\n",
        "print(fibonacci(n=10))"
      ],
      "execution_count": null,
      "outputs": [
        {
          "output_type": "stream",
          "text": [
            "(3, 1.5)\n",
            "(34, 1.619047619047619)\n"
          ],
          "name": "stdout"
        }
      ]
    },
    {
      "cell_type": "code",
      "metadata": {
        "colab": {
          "base_uri": "https://localhost:8080/"
        },
        "id": "BRz7boCKcKBM",
        "outputId": "763ac36d-95bb-41e2-d66c-424bff667e62"
      },
      "source": [
        "# Example of keyword argument\n",
        "def add(a,b=2):\n",
        "    return a+b\n",
        "\n",
        "# These work\n",
        "print(color.GREEN,\"add(a=3,b=4): \",color.END,add(a=3,b=4),sep=\"\")\n",
        "print(color.GREEN,\"add(a=3): \",color.END,add(a=3),sep=\"\")\n",
        "try:\n",
        "    print(color.GREEN,\"add()\",color.END,add(),sep=\"\")\n",
        "except Exception as e:\n",
        "    print(color.GREEN,\"add(a), raises exception: \",color.END,e,sep=\"\")"
      ],
      "execution_count": null,
      "outputs": [
        {
          "output_type": "stream",
          "text": [
            "\u001b[92madd(a=3,b=4): \u001b[0m7\n",
            "\u001b[92madd(a=3): \u001b[0m5\n",
            "\u001b[92madd(a), raises exception: \u001b[0madd() missing 1 required positional argument: 'a'\n"
          ],
          "name": "stdout"
        }
      ]
    },
    {
      "cell_type": "markdown",
      "metadata": {
        "id": "HcBJLeGZfgaR"
      },
      "source": [
        "<div class=\"alert alert-block alert-info\">\n",
        "Python function arguments should follow the order given below:  \n",
        "<ul>\n",
        "    <li> Formal arguments </li>\n",
        "    <li> *args : collects extra positional arguments as a tuple</li>\n",
        "    <li> Keyword arguments </li>\n",
        "    <li> **kwargs : collects extra keyword arguments as a dictionary. </li>\n",
        "    <li> * and ** can be used to unpack function arguments from sequences and dictionaries </li>\n",
        "</ul>"
      ]
    },
    {
      "cell_type": "code",
      "metadata": {
        "colab": {
          "base_uri": "https://localhost:8080/"
        },
        "id": "XVQxaOCBeXqB",
        "outputId": "39a6f91e-33d8-449c-ce8d-96e0c29e4069"
      },
      "source": [
        "def names(n, *args, n1=\"David\", **kwargs):\n",
        "    print(color.RED,\"n = \",color.END, n, sep=\"\")\n",
        "    print(color.RED,\"type(args) = \",color.END,type(args), sep=\"\")\n",
        "    print(color.RED,\"args = \",color.END, args, sep=\"\")\n",
        "    print(color.RED,\"n1 = \",color.END, n1, sep=\"\")\n",
        "    print(color.RED,\"type(kwargs) = \",color.END, type(kwargs), sep=\"\")\n",
        "    print(color.RED,\"kwargs = \",color.END, kwargs, sep=\"\")\n",
        "\n",
        "names(\"James\",\"John\", \"Robert\", name1=\"Michael\", name2=\"William\")"
      ],
      "execution_count": null,
      "outputs": [
        {
          "output_type": "stream",
          "text": [
            "\u001b[91mn = \u001b[0mJames\n",
            "\u001b[91mtype(args) = \u001b[0m<class 'tuple'>\n",
            "\u001b[91margs = \u001b[0m('John', 'Robert')\n",
            "\u001b[91mn1 = \u001b[0mDavid\n",
            "\u001b[91mtype(kwargs) = \u001b[0m<class 'dict'>\n",
            "\u001b[91mkwargs = \u001b[0m{'name1': 'Michael', 'name2': 'William'}\n"
          ],
          "name": "stdout"
        }
      ]
    },
    {
      "cell_type": "code",
      "metadata": {
        "colab": {
          "base_uri": "https://localhost:8080/"
        },
        "id": "IFbTRGZeffbx",
        "outputId": "75a401d8-46be-46d1-c385-5c5a3e390618"
      },
      "source": [
        "def factorial(n=1):\n",
        "    \"\"\" Calculates the factorial of a number n\n",
        "        if n==0 or n==1:\n",
        "            return 1\n",
        "        else: #calculates recursively\n",
        "            n*factorial(n-1)\n",
        "        :param n: (int) the number of which to calculate the factorial\n",
        "        :output : (int) returns the factorial of the number\n",
        "    \"\"\"\n",
        "    if n<0:\n",
        "        return \"Give a positive number as input\"\n",
        "    elif n==0 or n==1:\n",
        "        return 1\n",
        "    else:\n",
        "        return n*factorial(n-1)\n",
        "\n",
        "print(color.BLUE,\"factorial(7):\",color.END,factorial(7))"
      ],
      "execution_count": null,
      "outputs": [
        {
          "output_type": "stream",
          "text": [
            "\u001b[94m factorial(7): \u001b[0m 5040\n"
          ],
          "name": "stdout"
        }
      ]
    },
    {
      "cell_type": "markdown",
      "metadata": {
        "id": "yVbrTzLkiZBh"
      },
      "source": [
        "## Collatz Conjecture\n",
        "---\n",
        "[Source](https://en.wikipedia.org/wiki/Collatz_conjecture)\n",
        "<table>\n",
        "<tr>\n",
        "<td>\n",
        "\n",
        "The Collatz conjecture is a conjecture in mathematics that concerns a sequence defined as follows:\n",
        "<ul>\n",
        "<li>Start with any positive integer `n`. </li>\n",
        "<li>Then each term is obtained from the previous term as follows: </li>\n",
        "    <ul>\n",
        "    <li>if the previous term is even, the next term is one half of the previous term. (i.e. `n/2` ) </li>\n",
        "    <li> If the previous term is odd, the next term is 3 times the previous term plus 1 (i.e. `3n+1` ).\n",
        "    </ul>\n",
        "<li><b>The conjecture is that no matter what value of `n`, the sequence will always reach 1.</b></li>\n",
        "</ul>\n",
        "</td>\n",
        "\n",
        "<td>\n",
        "<img src=\"https://imgs.xkcd.com/comics/collatz_conjecture.png\" alt=\"https://imgs.xkcd.com/comics/collatz_conjecture.png\" width=500></img>\n",
        "</td>\n",
        "\n",
        "</tr>\n",
        "</table>"
      ]
    },
    {
      "cell_type": "code",
      "metadata": {
        "colab": {
          "base_uri": "https://localhost:8080/"
        },
        "id": "QgNG_jhGiYTh",
        "outputId": "21c1e7a2-8ff3-4f94-b6d8-419a8474ad3a"
      },
      "source": [
        "def collatz_conjecture(n=100, verbose=False):\n",
        "    temp = n\n",
        "    count = 0\n",
        "    while temp!=1:\n",
        "        if temp%2==0:\n",
        "            temp = temp//2\n",
        "        else:\n",
        "            temp = 3*temp+1\n",
        "        count += 1\n",
        "        if verbose:\n",
        "            print(\"At count {}, the number is {}.\".format(count, temp))\n",
        "    print(\"Reached conjecture at count:\",count)\n",
        "\n",
        "print(color.GREEN, \"type(collatz_conjecture): \", color.END, type(collatz_conjecture))\n",
        "for i in range(100,151,5):\n",
        "    print(color.GREEN,\"number =\",color.END,i,end=\" \")\n",
        "    collatz_conjecture(i)"
      ],
      "execution_count": null,
      "outputs": [
        {
          "output_type": "stream",
          "text": [
            "\u001b[92m type(collatz_conjecture):  \u001b[0m <class 'function'>\n",
            "\u001b[92m number = \u001b[0m 100 Reached conjecture at count: 25\n",
            "\u001b[92m number = \u001b[0m 105 Reached conjecture at count: 38\n",
            "\u001b[92m number = \u001b[0m 110 Reached conjecture at count: 113\n",
            "\u001b[92m number = \u001b[0m 115 Reached conjecture at count: 33\n",
            "\u001b[92m number = \u001b[0m 120 Reached conjecture at count: 20\n",
            "\u001b[92m number = \u001b[0m 125 Reached conjecture at count: 108\n",
            "\u001b[92m number = \u001b[0m 130 Reached conjecture at count: 28\n",
            "\u001b[92m number = \u001b[0m 135 Reached conjecture at count: 41\n",
            "\u001b[92m number = \u001b[0m 140 Reached conjecture at count: 15\n",
            "\u001b[92m number = \u001b[0m 145 Reached conjecture at count: 116\n",
            "\u001b[92m number = \u001b[0m 150 Reached conjecture at count: 15\n"
          ],
          "name": "stdout"
        }
      ]
    },
    {
      "cell_type": "markdown",
      "metadata": {
        "id": "8kbAMgD3o1F3"
      },
      "source": [
        "## Lambda Functions and Functional Programming\n",
        "---\n",
        "- There are different paradigms of programming that are present, one of which is **Functional Programming**.  \n",
        "- Python `lambda` functions are a gateway to the Functional programming nature of python.\n",
        "- `lambda` functions are one-line functions that performs some operations without requiring the `def` statement.\n",
        "- `map` and `filter` are other helper functions that can be used adjunct to `lambda` functions for fast computations"
      ]
    },
    {
      "cell_type": "code",
      "metadata": {
        "colab": {
          "base_uri": "https://localhost:8080/"
        },
        "id": "QaDOg-Rzozy-",
        "outputId": "43bc41c9-0a80-45fb-b57d-37b462972d9a"
      },
      "source": [
        "square= lambda x: x*x if isinstance(x,int) else [i*i for i in x]\n",
        "\n",
        "print(color.BLUE,\"type(square):\",color.END,type(square))\n",
        "print(color.BLUE,\"square(2)):\",color.END,square(2))\n",
        "print(color.BLUE,\"square(range(10)):\",color.END,square(range(10)))\n",
        "print(color.BLUE,\"square(list(range(10,20))):\",color.END,square(list(range(10,20))))"
      ],
      "execution_count": null,
      "outputs": [
        {
          "output_type": "stream",
          "text": [
            "\u001b[94m type(square): \u001b[0m <class 'function'>\n",
            "\u001b[94m square(2)): \u001b[0m 4\n",
            "\u001b[94m square(range(10)): \u001b[0m [0, 1, 4, 9, 16, 25, 36, 49, 64, 81]\n",
            "\u001b[94m square(list(range(10,20))): \u001b[0m [100, 121, 144, 169, 196, 225, 256, 289, 324, 361]\n"
          ],
          "name": "stdout"
        }
      ]
    },
    {
      "cell_type": "markdown",
      "metadata": {
        "id": "0sSx9HzduJiy"
      },
      "source": [
        "### `map` in Python"
      ]
    },
    {
      "cell_type": "code",
      "metadata": {
        "colab": {
          "base_uri": "https://localhost:8080/"
        },
        "id": "ff3QZPSEuFS2",
        "outputId": "5b78e8ac-25b2-4d7d-9b0a-1520acc65349"
      },
      "source": [
        "in_string = \"1 2 3 4 5 6 7 8 9\"\n",
        "# If we want to convert the above string to a list of integers\n",
        "# we would first have to split the string and then convert each\n",
        "# element back to integer\n",
        "# we can use list comprehension\n",
        "print(color.RED,\"Using List Comprehension:\",color.END,[int(i) for i in in_string.split()])\n",
        "# there is a more readable way using map\n",
        "in_list = list(map(int, in_string.split()))\n",
        "print(color.RED,\"Using `map`:\",color.END,in_list)\n",
        "print(color.RED,\"square using map:\",color.END,end=\"\")\n",
        "print(list(map(square, in_list)))"
      ],
      "execution_count": null,
      "outputs": [
        {
          "output_type": "stream",
          "text": [
            "\u001b[91m Using List Comprehension: \u001b[0m [1, 2, 3, 4, 5, 6, 7, 8, 9]\n",
            "\u001b[91m Using `map`: \u001b[0m [1, 2, 3, 4, 5, 6, 7, 8, 9]\n",
            "\u001b[91m square using map: \u001b[0m[1, 4, 9, 16, 25, 36, 49, 64, 81]\n"
          ],
          "name": "stdout"
        }
      ]
    },
    {
      "cell_type": "markdown",
      "metadata": {
        "id": "nyWJ0nL_uN7C"
      },
      "source": [
        "### `filter` in Python"
      ]
    },
    {
      "cell_type": "code",
      "metadata": {
        "colab": {
          "base_uri": "https://localhost:8080/"
        },
        "id": "jEKyjVkGuGEk",
        "outputId": "c077d652-223a-4380-a236-9ab5e2d337ef"
      },
      "source": [
        "# example of filters\n",
        "even = lambda x: x%2==0\n",
        "print(color.GREEN,\"Example of using filter to store only the values from 0 to 21 that are even to a list:\",color.END, sep=\"\")\n",
        "print(list(filter(even, range(21))))"
      ],
      "execution_count": null,
      "outputs": [
        {
          "output_type": "stream",
          "text": [
            "\u001b[92mExample of using filter to store only the values from 0 to 21 that are even to a list:\u001b[0m\n",
            "[0, 2, 4, 6, 8, 10, 12, 14, 16, 18, 20]\n"
          ],
          "name": "stdout"
        }
      ]
    },
    {
      "cell_type": "markdown",
      "metadata": {
        "id": "AwgGkKAUTlyz"
      },
      "source": [
        "## Python File Handling\n",
        "----\n",
        "- Python offers a very interface to open, read, write and append to files of any kind.\n",
        "- Python has a syntax-like `with open(...) as ... :` to access the files. (best-practice)  \n",
        "`open()` takes a path-like object to the file we want to open and the `mode` in which the file needs to be opened.  \n",
        "`mode`s available are:  \n",
        "    - \"r\" : read-only mode\n",
        "    - \"w\" : write-only mode\n",
        "    - \"a\" : append-only mode\n",
        "    - \"rb\" : read-binary mode\n",
        "    - \"wb\" : write-binary mode\n",
        "    - \"r+\" : read/write mode\n",
        "    - \"a+\" : append and read mode\n",
        "\n"
      ]
    },
    {
      "cell_type": "code",
      "metadata": {
        "id": "9GVIBTrsLvQ1"
      },
      "source": [
        "# The way to create a new file and write to it is as follows:\n",
        "with open(\"dummy.txt\",\"w\") as f:\n",
        "    for i in range(10):\n",
        "        f.write(\"This is line number {}.\\n\".format(i))\n",
        "\n",
        "# Now let's look at the file content by downloading it."
      ],
      "execution_count": null,
      "outputs": []
    },
    {
      "cell_type": "code",
      "metadata": {
        "id": "X0meUnWxLvL2",
        "colab": {
          "base_uri": "https://localhost:8080/"
        },
        "outputId": "5ec9065c-9194-47b3-ea34-52bb3e4118a5"
      },
      "source": [
        "# The way to read a file is as follows\n",
        "with open(\"dummy.txt\",\"r\") as f:\n",
        "    print(color.BLUE,\"Name of the file opened: \",color.END, f.name,\n",
        "          color.BLUE,\" with mode: \",color.END,f.mode, sep=\"\")\n",
        "    for line in f.readlines():\n",
        "        print(line.strip(\"\\n\"))"
      ],
      "execution_count": null,
      "outputs": [
        {
          "output_type": "stream",
          "text": [
            "\u001b[94mName of the file opened: \u001b[0mdummy.txt\u001b[94m with mode: \u001b[0mr\n",
            "This is line number 0.\n",
            "This is line number 1.\n",
            "This is line number 2.\n",
            "This is line number 3.\n",
            "This is line number 4.\n",
            "This is line number 5.\n",
            "This is line number 6.\n",
            "This is line number 7.\n",
            "This is line number 8.\n",
            "This is line number 9.\n"
          ],
          "name": "stdout"
        }
      ]
    },
    {
      "cell_type": "markdown",
      "metadata": {
        "id": "70PyE1G001Lt"
      },
      "source": [
        "## Python Modules\n",
        "---\n",
        "- Along with the built-in functions, Python has loads of built-in modules to help us with computations, and other programming tasks.\n",
        "- Some of the most useful and commonly used built-in modules are:  \n",
        "    - `os` : useful interaction with OS\n",
        "    - `sys` : useful for system calls\n",
        "    - `time` : dealing with time data\n",
        "    - `math` : for mathematical operations\n",
        "    - `datetime` : for datetime data parsing\n",
        "    - `random` : for random number operations\n",
        "    - `csv` : to read csv files\n",
        "    - `re` : for regular expression works\n",
        "    - `string` : useful for string operations\n",
        "    - `urllib` : useful for using web page parsing\n",
        "    - `collections` : useful for computations\n",
        "    - `itertools` : useful for iterative computations\n",
        "    - `statistics` : for statistical functions like mean, median, mode, etc.  \n",
        "- In order to import a module in python, we use the `import` keyword. E.g. if we want to import `math` module into our code, we use the command `import math`\n",
        "- It is conventional to define all the imports at the top of the python scripts or codes, for better readability."
      ]
    },
    {
      "cell_type": "markdown",
      "metadata": {
        "id": "81-vF5lp4r9I"
      },
      "source": [
        "### Glimpse of `math` module\n",
        "---\n",
        "Python's `math` module has some useful functions for mathematical calculations. Some of them are:  \n",
        "- constants: `math.pi` ($\\pi$), `math.e` ($e$), `math.tau` ($\\tau = 2*\\pi$)\n",
        "- logarithms: `math.log()` ($ln$), `math.log10` ($log_{10}$) and `math.log2` ($log_{2}$)\n",
        "- arithmetic functions: `factorial()`, `ceil()`, `floor()`, `trunc()`, `pow()`, `exp()`, `gcd()`, `sqrt()`\n",
        "- trigonometric functions: `sin`, `cos`, `tan`, `asin`, `acos` and `atan`\n",
        "- number theory and algebraic functions: `comb`, `perm`, `isqrt`, `prod`, `dist`, `hypot`, but these are only for python version 3.8+\n",
        "\n",
        "- There is a separate library for complex number mathematics, called `cmath`, with similar functions for complex arithmetic"
      ]
    },
    {
      "cell_type": "code",
      "metadata": {
        "id": "czU0ZIR-LvIK",
        "colab": {
          "base_uri": "https://localhost:8080/"
        },
        "outputId": "bc3b1634-a859-4ae9-b412-c35c8f6e00d7"
      },
      "source": [
        "# Math module\n",
        "import math\n",
        "# Constants\n",
        "print(color.RED,\"Value of Pi: \",color.END, math.pi)\n",
        "print(color.RED,\"Value of e: \",color.END, math.e)\n",
        "print(color.RED,\"Value of tau (2*Pi) : \",color.END, math.tau)\n",
        "\n",
        "# Let's create a function to calculate the area and circumference of a circle\n",
        "def area_circumference(radius=1.0):\n",
        "    area = math.pi*radius*radius\n",
        "    circumference = 2*math.pi*radius\n",
        "    return area, circumference\n",
        "\n",
        "print(color.RED,\"Value of area_circumference(5): \",color.END, *area_circumference(5))"
      ],
      "execution_count": null,
      "outputs": [
        {
          "output_type": "stream",
          "text": [
            "\u001b[91m Value of Pi:  \u001b[0m 3.141592653589793\n",
            "\u001b[91m Value of e:  \u001b[0m 2.718281828459045\n",
            "\u001b[91m Value of tau (2*Pi) :  \u001b[0m 6.283185307179586\n",
            "\u001b[91m Value of area_circumference(5):  \u001b[0m 78.53981633974483 31.41592653589793\n"
          ],
          "name": "stdout"
        }
      ]
    },
    {
      "cell_type": "code",
      "metadata": {
        "id": "3UPIvXr0LvFn",
        "colab": {
          "base_uri": "https://localhost:8080/"
        },
        "outputId": "c14b2e48-b141-4e94-b652-2adf19459427"
      },
      "source": [
        "#-----------------------\n",
        "# Logarithm functions\n",
        "#-----------------------\n",
        "print(\"\"\"#-----------------------\n",
        "# Logarithmic Functions\n",
        "#-----------------------\"\"\")\n",
        "print(color.BLUE,\"math.log(math.e): \", color.END, math.log(math.e),sep=\"\")\n",
        "print(color.BLUE,\"math.log(10): \", color.END, math.log(10),sep=\"\")\n",
        "print(color.BLUE,\"math.log(10,10): \", color.END, math.log(10,10),sep=\"\")\n",
        "print(color.BLUE,\"math.log10(5): \", color.END, math.log10(5),sep=\"\")\n",
        "print(color.BLUE,\"math.log2(8): \", color.END, math.log2(8),sep=\"\")\n",
        "\n",
        "#-----------------------\n",
        "# Arithmetic functions\n",
        "#-----------------------\n",
        "print(\"\"\"#-----------------------\n",
        "# Arithmetic Functions\n",
        "#-----------------------\"\"\")\n",
        "print(color.BLUE,\"math.factorial(5): \", color.END, math.factorial(5),sep=\"\")\n",
        "print(color.BLUE,\"math.gcd(17,51): \", color.END, math.gcd(17,51),sep=\"\")\n",
        "# calculation of lcm is not present in math module\n",
        "print(color.BLUE,\"lcm(12,56) using (12*56)/math.gcd(12,56): \", color.END, (12*56)/math.gcd(12,56),sep=\"\")\n",
        "print(color.BLUE,\"math.trunc(math.pow(5,2)): \", color.END, math.trunc(math.pow(5,2)),sep=\"\")\n",
        "print(color.BLUE,\"math.ceil(5.3): \", color.END, math.ceil(5.3),sep=\"\")\n",
        "print(color.BLUE,\"math.floor(5.3): \", color.END, math.floor(5.3),sep=\"\")\n",
        "print(color.BLUE,\"math.sqrt(5.3): \", color.END, math.sqrt(5.3),sep=\"\")\n",
        "try:\n",
        "    print(color.BLUE,\"math.isqrt(5.3): \", color.END, math.isqrt(5.3),sep=\"\")\n",
        "except Exception as e:\n",
        "    print(e)\n",
        "\n",
        "#-----------------------\n",
        "# Trigonometric Functions\n",
        "#-----------------------\n",
        "print(\"\"\"#-----------------------\n",
        "# Trigonometric Functions\n",
        "#-----------------------\"\"\")\n",
        "# use math.radians to convert from degrees to radians\n",
        "# and math.degrees to convert from radians back to degrees\n",
        "print(color.BLUE,\"math.sin(90): \", color.END, math.sin(math.radians(90)),sep=\"\")\n",
        "print(color.BLUE,\"math.cos(90): \", color.END, math.cos(math.radians(90)),sep=\"\")\n",
        "print(color.BLUE,\"math.tan(90): \", color.END, math.tan(math.radians(90)),sep=\"\")\n",
        "print(color.BLUE,\"math.asin(1): \", color.END, math.degrees(math.asin(1)),sep=\"\")\n",
        "print(color.BLUE,\"math.acos(1): \", color.END, math.degrees(math.acos(1)),sep=\"\")\n",
        "print(color.BLUE,\"math.atan(1): \", color.END, math.degrees(math.atan(1)),sep=\"\")"
      ],
      "execution_count": null,
      "outputs": [
        {
          "output_type": "stream",
          "text": [
            "#-----------------------\n",
            "# Logarithmic Functions\n",
            "#-----------------------\n",
            "\u001b[94mmath.log(math.e): \u001b[0m1.0\n",
            "\u001b[94mmath.log(10): \u001b[0m2.302585092994046\n",
            "\u001b[94mmath.log(10,10): \u001b[0m1.0\n",
            "\u001b[94mmath.log10(5): \u001b[0m0.6989700043360189\n",
            "\u001b[94mmath.log2(8): \u001b[0m3.0\n",
            "#-----------------------\n",
            "# Arithmetic Functions\n",
            "#-----------------------\n",
            "\u001b[94mmath.factorial(5): \u001b[0m120\n",
            "\u001b[94mmath.gcd(17,51): \u001b[0m17\n",
            "\u001b[94mlcm(12,56) using (12*56)/math.gcd(12,56): \u001b[0m168.0\n",
            "\u001b[94mmath.trunc(math.pow(5,2)): \u001b[0m25\n",
            "\u001b[94mmath.ceil(5.3): \u001b[0m6\n",
            "\u001b[94mmath.floor(5.3): \u001b[0m5\n",
            "\u001b[94mmath.sqrt(5.3): \u001b[0m2.3021728866442674\n",
            "module 'math' has no attribute 'isqrt'\n",
            "#-----------------------\n",
            "# Trigonometric Functions\n",
            "#-----------------------\n",
            "\u001b[94mmath.sin(90): \u001b[0m1.0\n",
            "\u001b[94mmath.cos(90): \u001b[0m6.123233995736766e-17\n",
            "\u001b[94mmath.tan(90): \u001b[0m1.633123935319537e+16\n",
            "\u001b[94mmath.asin(1): \u001b[0m90.0\n",
            "\u001b[94mmath.acos(1): \u001b[0m0.0\n",
            "\u001b[94mmath.atan(1): \u001b[0m45.0\n"
          ],
          "name": "stdout"
        }
      ]
    },
    {
      "cell_type": "code",
      "metadata": {
        "id": "D4idy9iMLvC5",
        "colab": {
          "base_uri": "https://localhost:8080/"
        },
        "outputId": "5b4b1e6b-dd19-458f-adda-9cf0da968e9f"
      },
      "source": [
        "print(\"\"\"#-----------------------\n",
        "# Complex Math Functions\n",
        "#-----------------------\"\"\")\n",
        "import cmath\n",
        "print(color.BLUE,\"cmath.log(2+3j): \", color.END, cmath.log(2+3j),sep=\"\")\n",
        "print(color.BLUE,\"cmath.log10(2+3j): \", color.END, cmath.log10(2+3j),sep=\"\")\n",
        "print(color.BLUE,\"cmath.exp(2+3j): \", color.END, cmath.exp(2+3j),sep=\"\")\n",
        "print(color.BLUE,\"cmath.polar(2+3j): \", color.END, cmath.polar(2+3j),sep=\"\")\n",
        "print(color.BLUE,\"cmath.cos(2+3j): \", color.END, cmath.cos(2+3j),sep=\"\")\n",
        "# etc ..."
      ],
      "execution_count": null,
      "outputs": [
        {
          "output_type": "stream",
          "text": [
            "#-----------------------\n",
            "# Complex Math Functions\n",
            "#-----------------------\n",
            "\u001b[94mcmath.log(2+3j): \u001b[0m(1.2824746787307684+0.982793723247329j)\n",
            "\u001b[94mcmath.log10(2+3j): \u001b[0m(0.5569716761534184+0.42682189085546657j)\n",
            "\u001b[94mcmath.exp(2+3j): \u001b[0m(-7.315110094901103+1.0427436562359045j)\n",
            "\u001b[94mcmath.polar(2+3j): \u001b[0m(3.605551275463989, 0.982793723247329)\n",
            "\u001b[94mcmath.cos(2+3j): \u001b[0m(-4.189625690968807-9.109227893755337j)\n"
          ],
          "name": "stdout"
        }
      ]
    },
    {
      "cell_type": "markdown",
      "metadata": {
        "id": "rioy_fIq_7gH"
      },
      "source": [
        "## Case Study\n",
        "---\n",
        "#### Describe some statistics of the famouse IRIS Dataset\n",
        "---\n",
        "- The IRIS dataset [Source](https://archive.ics.uci.edu/ml/machine-learning-databases/iris/iris.data) has about 150 instances of 3 classes of flowers, with 50 instances of each.\n",
        "- Each class refers to a type of the IRIS Plant.\n",
        "- Attribute Information (what each of these columns mean):  \n",
        "    1. sepal length (in cm)\n",
        "    2. sepal width (in cm)\n",
        "    3. petal length (in cm)\n",
        "    4. petal width (in cm)\n",
        "    5. class:  \n",
        "        - Iris Setosa\n",
        "        - Iris Versicolour\n",
        "        - Iris Virginica"
      ]
    },
    {
      "cell_type": "code",
      "metadata": {
        "colab": {
          "base_uri": "https://localhost:8080/"
        },
        "id": "Ge3XLjNOB9kC",
        "outputId": "6b166796-1e8b-4311-90e2-6347dd44a402"
      },
      "source": [
        "# Here we look into a way of downloading the iris dataset from the online source\n",
        "data_url=\"https://archive.ics.uci.edu/ml/machine-learning-databases/iris/iris.data\"\n",
        "import urllib.request\n",
        "import time\n",
        "\n",
        "start= time.time()\n",
        "\n",
        "urllib.request.urlretrieve(data_url,\"iris_data.csv\")\n",
        "\n",
        "# Next we look into how we want to read the file and store the information for use\n",
        "# I would like to store it in a dictionary, for the conveniene that different\n",
        "# columns can then be used as keys for us to calculate things later\n",
        "data_dict = dict()\n",
        "import csv\n",
        "with open(\"iris_data.csv\",\"r\") as f:\n",
        "    csv_reader = csv.reader(f, delimiter=\",\")\n",
        "    for row in csv_reader:\n",
        "        if len(row)>0:\n",
        "            if row[4] in data_dict:\n",
        "                data_dict[row[4]][\"sepal_length\"].append(float(row[0]))\n",
        "                data_dict[row[4]][\"sepal_width\"].append(float(row[1]))\n",
        "                data_dict[row[4]][\"petal_length\"].append(float(row[2]))\n",
        "                data_dict[row[4]][\"petal_width\"].append(float(row[3]))\n",
        "            else:\n",
        "                data_dict[row[4]] = {\"sepal_length\": [float(row[0])],\n",
        "                                    \"sepal_width\": [float(row[1])],\n",
        "                                    \"petal_length\":[float(row[2])],\n",
        "                                    \"petal_width\": [float(row[3])], }\n",
        "print(data_dict.keys())\n",
        "print(data_dict.get('Iris-setosa'))"
      ],
      "execution_count": null,
      "outputs": [
        {
          "output_type": "stream",
          "text": [
            "dict_keys(['Iris-setosa', 'Iris-versicolor', 'Iris-virginica'])\n",
            "{'sepal_length': [5.1, 4.9, 4.7, 4.6, 5.0, 5.4, 4.6, 5.0, 4.4, 4.9, 5.4, 4.8, 4.8, 4.3, 5.8, 5.7, 5.4, 5.1, 5.7, 5.1, 5.4, 5.1, 4.6, 5.1, 4.8, 5.0, 5.0, 5.2, 5.2, 4.7, 4.8, 5.4, 5.2, 5.5, 4.9, 5.0, 5.5, 4.9, 4.4, 5.1, 5.0, 4.5, 4.4, 5.0, 5.1, 4.8, 5.1, 4.6, 5.3, 5.0], 'sepal_width': [3.5, 3.0, 3.2, 3.1, 3.6, 3.9, 3.4, 3.4, 2.9, 3.1, 3.7, 3.4, 3.0, 3.0, 4.0, 4.4, 3.9, 3.5, 3.8, 3.8, 3.4, 3.7, 3.6, 3.3, 3.4, 3.0, 3.4, 3.5, 3.4, 3.2, 3.1, 3.4, 4.1, 4.2, 3.1, 3.2, 3.5, 3.1, 3.0, 3.4, 3.5, 2.3, 3.2, 3.5, 3.8, 3.0, 3.8, 3.2, 3.7, 3.3], 'petal_length': [1.4, 1.4, 1.3, 1.5, 1.4, 1.7, 1.4, 1.5, 1.4, 1.5, 1.5, 1.6, 1.4, 1.1, 1.2, 1.5, 1.3, 1.4, 1.7, 1.5, 1.7, 1.5, 1.0, 1.7, 1.9, 1.6, 1.6, 1.5, 1.4, 1.6, 1.6, 1.5, 1.5, 1.4, 1.5, 1.2, 1.3, 1.5, 1.3, 1.5, 1.3, 1.3, 1.3, 1.6, 1.9, 1.4, 1.6, 1.4, 1.5, 1.4], 'petal_width': [0.2, 0.2, 0.2, 0.2, 0.2, 0.4, 0.3, 0.2, 0.2, 0.1, 0.2, 0.2, 0.1, 0.1, 0.2, 0.4, 0.4, 0.3, 0.3, 0.3, 0.2, 0.4, 0.2, 0.5, 0.2, 0.2, 0.4, 0.2, 0.2, 0.2, 0.2, 0.4, 0.1, 0.2, 0.1, 0.2, 0.2, 0.1, 0.2, 0.2, 0.3, 0.3, 0.2, 0.6, 0.4, 0.3, 0.2, 0.2, 0.2, 0.2]}\n"
          ],
          "name": "stdout"
        }
      ]
    },
    {
      "cell_type": "code",
      "metadata": {
        "colab": {
          "base_uri": "https://localhost:8080/"
        },
        "id": "e6MzjIdWGa4f",
        "outputId": "53874c40-2a72-4b13-b35c-cff0e0a0eab0"
      },
      "source": [
        "## Now that we have loaded the dataset into a dictionary we can now use maths to look into soem features statistics\n",
        "# Let's look at the minimum, maximum, means, standard deviation of each of these features for each class.\n",
        "import statistics as stat\n",
        "# python also has a built in statistics module\n",
        "\n",
        "classes = data_dict.keys()\n",
        "overall_stats={\n",
        "\"sepal_length\": {\"min\":[], \"max\":[], \"mean\":[], \"std\": []},\n",
        "\"sepal_width\": {\"min\":[], \"max\":[], \"mean\":[], \"std\": []},\n",
        "\"petal_length\": {\"min\":[], \"max\":[], \"mean\":[], \"std\": []},\n",
        "\"petal_width\": {\"min\":[], \"max\":[], \"mean\":[], \"std\": []}\n",
        "}\n",
        "\n",
        "for class_ in classes:\n",
        "    print(color.BLUE,\"For iris class: \",color.END,class_,sep=\"\")\n",
        "    attributes = data_dict[class_].keys()\n",
        "    print(\"\\t\".join([\"attribute\",\"min\",\"max\",\"mean\",\"std\"]))\n",
        "    for i,attr in enumerate(attributes):\n",
        "        min_ = min(data_dict[class_][attr])\n",
        "        max_ = max(data_dict[class_][attr])\n",
        "        mean_ = stat.mean(data_dict[class_][attr])\n",
        "        std_ = stat.stdev(data_dict[class_][attr])\n",
        "\n",
        "        overall_stats[attr][\"min\"].append(min_)\n",
        "        overall_stats[attr][\"max\"].append(max_)\n",
        "        overall_stats[attr][\"mean\"].append(mean_)\n",
        "        overall_stats[attr][\"std\"].append(std_)\n",
        "\n",
        "        print(\"{}\\t{}\\t{}\\t{:.2f}\\t{:.2f}\".format(attr, min_, max_, mean_, std_))\n",
        "\n",
        "\n",
        "print(color.BLUE,\"\"\"-------------------------------------------\n",
        "\\t\\tOverall Statistics\n",
        "-------------------------------------------\"\"\",color.END, sep=\"\")\n",
        "print(\"\\t\".join([\"attribute\",\"min\",\"max\",\"mean\",\"std\"]))\n",
        "for i,attr in enumerate(attributes):\n",
        "    print(\"{}\\t{:.2f}\\t{:.2f}\\t{:.2f}\\t{:.2f}\".format(attr,\n",
        "                                              min(overall_stats[attr][\"min\"]),\n",
        "                                              max(overall_stats[attr][\"max\"]),\n",
        "                                              stat.mean(overall_stats[attr][\"mean\"]),\n",
        "                                              stat.mean(overall_stats[attr][\"std\"])))\n",
        "\n",
        "print(color.GREEN,\"Time taken for this execution is :\", color.END, round(time.time()-start,2),\" sec\", sep=\"\")"
      ],
      "execution_count": null,
      "outputs": [
        {
          "output_type": "stream",
          "text": [
            "\u001b[94mFor iris class: \u001b[0mIris-setosa\n",
            "attribute\tmin\tmax\tmean\tstd\n",
            "sepal_length\t4.3\t5.8\t5.01\t0.35\n",
            "sepal_width\t2.3\t4.4\t3.42\t0.38\n",
            "petal_length\t1.0\t1.9\t1.46\t0.17\n",
            "petal_width\t0.1\t0.6\t0.24\t0.11\n",
            "\u001b[94mFor iris class: \u001b[0mIris-versicolor\n",
            "attribute\tmin\tmax\tmean\tstd\n",
            "sepal_length\t4.9\t7.0\t5.94\t0.52\n",
            "sepal_width\t2.0\t3.4\t2.77\t0.31\n",
            "petal_length\t3.0\t5.1\t4.26\t0.47\n",
            "petal_width\t1.0\t1.8\t1.33\t0.20\n",
            "\u001b[94mFor iris class: \u001b[0mIris-virginica\n",
            "attribute\tmin\tmax\tmean\tstd\n",
            "sepal_length\t4.9\t7.9\t6.59\t0.64\n",
            "sepal_width\t2.2\t3.8\t2.97\t0.32\n",
            "petal_length\t4.5\t6.9\t5.55\t0.55\n",
            "petal_width\t1.4\t2.5\t2.03\t0.27\n",
            "\u001b[94m-------------------------------------------\n",
            "\t\tOverall Statistics\n",
            "-------------------------------------------\u001b[0m\n",
            "attribute\tmin\tmax\tmean\tstd\n",
            "sepal_length\t4.30\t7.90\t5.84\t0.50\n",
            "sepal_width\t2.00\t4.40\t3.05\t0.34\n",
            "petal_length\t1.00\t6.90\t3.76\t0.40\n",
            "petal_width\t0.10\t2.50\t1.20\t0.19\n",
            "\u001b[92mTime taken for this execution is :\u001b[0m0.2 sec\n"
          ],
          "name": "stdout"
        }
      ]
    },
    {
      "cell_type": "markdown",
      "metadata": {
        "id": "BcmwBR-oGiC5"
      },
      "source": [
        "# Python Classes and Objects\n",
        "---\n",
        "We had seen before how to use Lists as a Stack. Below we represent a more formal way to implement stacks."
      ]
    },
    {
      "cell_type": "code",
      "metadata": {
        "id": "EFgxgCiksTP1"
      },
      "source": [
        "class Stack:\n",
        "    \"\"\" Stack (LIFO) class.\n",
        "        Options: - add(x) : add element x to the stack instance\n",
        "                 - pop() : pop the last element of the stack\n",
        "                 - insert(x,pos) : insert element x, at position pos\n",
        "                 - remove(x) : remove one instance of from stack\n",
        "\n",
        "        Usage: - s = Stack([1,2,3]) : if we want to initialize a stack with list\n",
        "               - s.add(7) : add 7 to the end of the stack\n",
        "               - s.pop() : to pop the last element\n",
        "    \"\"\"\n",
        "    def __init__(self, x=[]):\n",
        "        if not isinstance(x,list):\n",
        "            self.stack = list(x)\n",
        "        else:\n",
        "            self.stack = x\n",
        "\n",
        "    def add(self, x):\n",
        "        if not isinstance(x,list):\n",
        "            self.stack.append(x)\n",
        "        else:\n",
        "            self.stack.extend(x)\n",
        "\n",
        "    def pop(self):\n",
        "        return self.stack.pop()\n",
        "\n",
        "    def insert(self, x, pos=None):\n",
        "        if pos==None:\n",
        "            self.stack.insert(len(self.stack), x)\n",
        "        else:\n",
        "            self.stack.insert(pos, x)\n",
        "\n",
        "    def remove(self, x):\n",
        "        self.stack.remove(x)\n",
        "\n",
        "    def __str__(self):\n",
        "        return \"{}\".format(self.stack)"
      ],
      "execution_count": null,
      "outputs": []
    },
    {
      "cell_type": "code",
      "metadata": {
        "id": "65AClCj_sTP1",
        "colab": {
          "base_uri": "https://localhost:8080/"
        },
        "outputId": "a5967d54-2120-487f-f42f-01c827f23114"
      },
      "source": [
        "s = Stack()\n",
        "print(s)\n",
        "s.add([1,2,3,45,50,10])\n",
        "print(s)\n",
        "pop = s.pop()\n",
        "print(pop, s)"
      ],
      "execution_count": null,
      "outputs": [
        {
          "output_type": "stream",
          "text": [
            "[]\n",
            "[1, 2, 3, 45, 50, 10]\n",
            "10 [1, 2, 3, 45, 50]\n"
          ],
          "name": "stdout"
        }
      ]
    }
  ]
}